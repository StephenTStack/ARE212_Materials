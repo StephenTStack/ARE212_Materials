{
 "cells": [
  {
   "cell_type": "markdown",
   "id": "76b881a9",
   "metadata": {},
   "source": [
    "## Exercise 3\n",
    "#### Let $A$ be an $m$x$n$ matrix. A matrix  $\\mathrm{A}^{-}$ is a generalized inverse of $A$ if $\\mathrm{AA}^{-}A=A$. Such a generalized inverse can be shown to always exist. If A is a matrix of zeros, what can we say about $\\mathrm{A}^{-}$.\n"
   ]
  },
  {
   "cell_type": "code",
   "execution_count": 2,
   "id": "0f60b84f",
   "metadata": {},
   "outputs": [
    {
     "name": "stdout",
     "output_type": "stream",
     "text": [
      "Matrix A:\n",
      "[[0.09961292 0.13151518]\n",
      " [0.07644819 0.92915429]\n",
      " [0.83330503 0.92649452]]\n",
      "\n",
      "Generalized Inverse A-:\n",
      "[[ 0.12078701 -1.32006163  1.30670563]\n",
      " [ 0.01615805  1.18421662 -0.11057268]]\n",
      "\n",
      "AA-A:\n",
      "[[0.09961292 0.13151518]\n",
      " [0.07644819 0.92915429]\n",
      " [0.83330503 0.92649452]]\n"
     ]
    }
   ],
   "source": [
    "%reset -f\n",
    "import numpy as np\n",
    "import pandas as pd\n",
    "import seaborn as sns\n",
    "import matplotlib.pyplot as plt\n",
    "from sklearn.neighbors import KernelDensity\n",
    "from scipy.stats import norm\n",
    "\n",
    "seed_value = 42\n",
    "\n",
    "# Define a random matrix A (m x n)\n",
    "m = 3  # number of rows\n",
    "n = 2  # number of columns\n",
    "A = np.random.rand(m, n)\n",
    "\n",
    "# Calculate the generalized inverse A-\n",
    "A_inv = np.linalg.pinv(A)\n",
    "\n",
    "# Calculate AA-A\n",
    "result = np.dot(np.dot(A, A_inv), A)\n",
    "\n",
    "# Check if AA-A = A (within a small tolerance due to floating-point precision)\n",
    "tolerance = 1e-10\n",
    "is_identity = np.allclose(result, A, atol=tolerance)\n",
    "\n",
    "print(\"Matrix A:\")\n",
    "print(A)\n",
    "\n",
    "print(\"\\nGeneralized Inverse A-:\")\n",
    "print(A_inv)\n",
    "\n",
    "print(\"\\nAA-A:\")\n",
    "print(result)"
   ]
  },
  {
   "cell_type": "markdown",
   "id": "c0edebdd",
   "metadata": {},
   "source": [
    "Now, if matrix $A$ is a matrix of zeros, then it is a zero matrix, denoted as 0. In this case, $\\mathrm{A}^{-}$, the generalized inverse of A, would be the Moore-Penrose pseudoinverse of the zero matrix. The Moore-Penrose pseudoinverse of a zero matrix is the zero matrix itself. This can be understood from the properties of the Moore-Penrose pseudoinverse:\n",
    "\n",
    "If A is a zero matrix, then $\\mathrm{A}^{+}=\\mathrm{A}^{-}=\\mathrm{A}^{´}=0$\n",
    "\n",
    "So, in summary, if A is a matrix of zeros, its generalized inverse A− is also a zero matrix."
   ]
  },
  {
   "cell_type": "code",
   "execution_count": 3,
   "id": "70feb0eb",
   "metadata": {},
   "outputs": [
    {
     "name": "stdout",
     "output_type": "stream",
     "text": [
      "Matrix A:\n",
      "[[0. 0.]\n",
      " [0. 0.]\n",
      " [0. 0.]]\n",
      "\n",
      "Generalized Inverse A-:\n",
      "[[0. 0. 0.]\n",
      " [0. 0. 0.]]\n",
      "\n",
      "AA-A:\n",
      "[[0. 0.]\n",
      " [0. 0.]\n",
      " [0. 0.]]\n"
     ]
    }
   ],
   "source": [
    "import sympy as sp\n",
    "import pandas as pd\n",
    "A = np.zeros((m, n))# Calculate the generalized inverse A-\n",
    "A_inv = np.linalg.pinv(A)\n",
    "\n",
    "# Calculate AA-A\n",
    "result = np.dot(np.dot(A, A_inv), A)\n",
    "\n",
    "# Check if AA-A = A (within a small tolerance due to floating-point precision)\n",
    "tolerance = 1e-10\n",
    "is_identity = np.allclose(result, A, atol=tolerance)\n",
    "\n",
    "print(\"Matrix A:\")\n",
    "print(A)\n",
    "\n",
    "print(\"\\nGeneralized Inverse A-:\")\n",
    "print(A_inv)\n",
    "\n",
    "print(\"\\nAA-A:\")\n",
    "print(result)"
   ]
  },
  {
   "cell_type": "markdown",
   "id": "402804d7",
   "metadata": {},
   "source": [
    "## Exercise 7. Food expenditures in India"
   ]
  },
  {
   "cell_type": "markdown",
   "id": "800b1564",
   "metadata": {},
   "source": [
    "The NSS surveys in India pioneered (in considerable part due to Mahalanobis) a wide variety of methodological innovations in sampling, questionnaire design, and have been among the most ambitious regularly collected data on household behavior and characteristics until recently. The most recently publicly released data on household expenditures was the “68th round”, collected in 2011–12. (More recent data has been collected, but suppressed for political reasons.) Data on householdlevel total food (and a few other non-durable) expenditures from the 68th round is available here, in the file total_expenditures.parquet. (You can use the pandas.read_parquet method to read these files–you may need to install some additional dependencies such as pyarrow.)"
   ]
  },
  {
   "cell_type": "markdown",
   "id": "e2ab9114",
   "metadata": {},
   "source": [
    "#### 1) Use these data to produce a figure describing the distribution of non-durable expenditures across households, measured in INR, using a Gaussian kernel and some bandwidth h. What are the strengths and weaknesses of your figure in terms of what it conveys about the underlying distribution? Can weaknesses be addressed by choosing a different bandwidth or kernel? (Nothing formal required here—I encourage you to simply play around.)"
   ]
  },
  {
   "cell_type": "code",
   "execution_count": 4,
   "id": "24355c59",
   "metadata": {},
   "outputs": [],
   "source": [
    "data1 = pd.read_parquet(\"C:/Users/52554/Documents/GitHub/ARE212_Materials/total_expenditures.parquet\")"
   ]
  },
  {
   "cell_type": "code",
   "execution_count": 5,
   "id": "f9b652e8",
   "metadata": {},
   "outputs": [
    {
     "name": "stdout",
     "output_type": "stream",
     "text": [
      "           total_value\n",
      "j                     \n",
      "410001101         7813\n",
      "410001102         3573\n",
      "410001103         9359\n",
      "410001201         5671\n",
      "410001202         6169\n",
      "...                ...\n",
      "799981301         3842\n",
      "799982101         2736\n",
      "799982201         3378\n",
      "799982202         3221\n",
      "799982301         3777\n",
      "\n",
      "[101660 rows x 1 columns]\n"
     ]
    }
   ],
   "source": [
    "print(data1)"
   ]
  },
  {
   "cell_type": "code",
   "execution_count": 6,
   "id": "024a3c74",
   "metadata": {},
   "outputs": [],
   "source": [
    "data = pd.Series(data1[\"total_value\"]) #no filter, it has some outliers\n",
    "# Filter outliers\n",
    "S = data[abs(data- data.mean()) <= 10*data.std()] ##notice 10 times from STD, only extreme outliers"
   ]
  },
  {
   "cell_type": "code",
   "execution_count": 7,
   "id": "0148a5f7",
   "metadata": {},
   "outputs": [],
   "source": [
    "# Define the Gaussian kernel\n",
    "k = lambda u: np.exp(-(u**2)/2)/np.sqrt(2*np.pi) \n",
    "def kernel_estimator(X,h):\n",
    "    return lambda x: k((X-x)/h).mean()/h"
   ]
  },
  {
   "cell_type": "code",
   "execution_count": 8,
   "id": "74dfa1b4",
   "metadata": {},
   "outputs": [],
   "source": [
    "# Plot the probability density function (PDF) using a custom kernel function.\n",
    "def plot_pdf(x, npts=100, ax=None, kernel_func=None, bandwidth=None):\n",
    "    \"\"\"\n",
    "    Plot the probability density function (PDF) using a custom kernel function.\n",
    "    \n",
    "    Parameters:\n",
    "    - x: Pandas Series or array-like object containing the data.\n",
    "    - npts: Number of points for plotting.\n",
    "    - ax: Matplotlib Axes object for plotting.\n",
    "    - kernel_func: Custom kernel function.\n",
    "    - bandwidth: Bandwidth parameter for the kernel function.\n",
    "    \"\"\"\n",
    "    \n",
    "    if ax is None:\n",
    "        fig,ax = plt.subplots()\n",
    "\n",
    "    # Calculate the kernel density estimate (KDE) using the custom kernel function\n",
    "    if kernel_func is None:\n",
    "        kde = x.plot.kde(ax=ax)\n",
    "    else:\n",
    "        kde_values = [kernel_func(x_i) for x_i in np.linspace(x.min(), x.max(), npts)]\n",
    "        ax.plot(np.linspace(x.min(), x.max(), npts), kde_values, label=f'Custom KDE (Bandwidth={bandwidth})')\n",
    "    \n",
    "    # Set the x-axis limits based on the data range\n",
    "    ax.set_xlim(x.min(), x.max() )\n",
    "    \n",
    "    # Add legend if using custom kernel function\n",
    "    if kernel_func is not None:\n",
    "        ax.legend()\n",
    "    \n",
    "    return ax"
   ]
  },
  {
   "cell_type": "code",
   "execution_count": 9,
   "id": "47ba36d9",
   "metadata": {},
   "outputs": [
    {
     "data": {
      "text/plain": [
       "Text(0.5, 1.0, 'Food Expenditures in India (INR)')"
      ]
     },
     "execution_count": 9,
     "metadata": {},
     "output_type": "execute_result"
    },
    {
     "data": {
      "image/png": "[encoded data removed]",
      "text/plain": [
       "<Figure size 640x480 with 1 Axes>"
      ]
     },
     "metadata": {},
     "output_type": "display_data"
    }
   ],
   "source": [
    "#Histogram\n",
    "S.hist(bins=int(np.sqrt(len(S))),density=True)\n",
    "plt.title('Food Expenditures in India (INR)')"
   ]
  },
  {
   "cell_type": "code",
   "execution_count": 10,
   "id": "86f1254c",
   "metadata": {},
   "outputs": [
    {
     "data": {
      "image/png": "[encoded data removed]",
      "text/plain": [
       "<Figure size 1500x500 with 3 Axes>"
      ]
     },
     "metadata": {},
     "output_type": "display_data"
    }
   ],
   "source": [
    "bandwidths = [1,5,50]\n",
    "fig, axes = plt.subplots(nrows=1,ncols=len(bandwidths), figsize=(15, 5), sharey=True)\n",
    "\n",
    "for i, bandwidth in enumerate(bandwidths):\n",
    "    kernel = kernel_estimator(S, bandwidth)\n",
    "    ax = axes[i] if len(bandwidths) > 1 else axes\n",
    "    plot_pdf(S, ax=ax, kernel_func=kernel, bandwidth=bandwidth)\n",
    "    ax.set_ylabel('Density')\n",
    "    ax.set_xlabel('Food Expenditures in India (INR)')\n",
    "\n",
    "\n",
    "plt.tight_layout()\n",
    "plt.show()"
   ]
  },
  {
   "cell_type": "markdown",
   "id": "71bbe57f",
   "metadata": {},
   "source": [
    "According to our lectures, Hansen (Probability, &sect; 17.4) develops an expression for the bias of\n",
    "the  kernel density estimator:\n",
    "$$\\mbox{Bias}(x) = \\int k(u)\\left(f(x+hu)-f(x)\\right)du.$$\n",
    "Thus, bias depends only on the kernel, the bandwidth, and the density $f$."
   ]
  },
  {
   "cell_type": "markdown",
   "id": "70177bec",
   "metadata": {},
   "source": [
    "We see that a greater bandwidth gives us more precision but also more volatility and variance."
   ]
  },
  {
   "cell_type": "markdown",
   "id": "807ce75a",
   "metadata": {},
   "source": [
    "#### 2) Once you’ve arrived at some favorite kernel & bandwidth (say $\\mathrm{f}^{h}(x)$ describing the density of expenditures, can you use the “inverse Jacobian” rule to describe instead the density of log expenditures? Write code to produce this figure"
   ]
  },
  {
   "cell_type": "code",
   "execution_count": 11,
   "id": "52a3653a",
   "metadata": {},
   "outputs": [
    {
     "data": {
      "image/png": "[encoded data removed]",
      "text/plain": [
       "<Figure size 640x480 with 1 Axes>"
      ]
     },
     "metadata": {},
     "output_type": "display_data"
    }
   ],
   "source": [
    "import sympy as sp\n",
    "import pandas as pd\n",
    "import numpy as np\n",
    "import matplotlib.pyplot as plt\n",
    "\n",
    "# Assuming 'data_series' is your data series\n",
    "data_series = S\n",
    "data_series = np.log(data_series)\n",
    "\n",
    "# Define the variable and the logarithmic transformation function\n",
    "x = sp.Symbol('x')\n",
    "log_y = sp.log(x)  # Logarithmic transformation function\n",
    "\n",
    "# Compute the Jacobian matrix\n",
    "J = sp.Matrix([[sp.diff(log_y, x)]])\n",
    "\n",
    "# Compute the determinant of the Jacobian matrix\n",
    "det_J = J.det()\n",
    "\n",
    "# Compute the inverse Jacobian determinant\n",
    "inv_det_J = 1 / det_J\n",
    "\n",
    "# Evaluate the inverse Jacobian determinant for each value in the data series\n",
    "inv_det_series = []\n",
    "for val in data_series:\n",
    "    try:\n",
    "        inv_det_series.append(float(inv_det_J.subs(x, val)))\n",
    "    except (sp.ZeroDivisionError, ValueError, TypeError):\n",
    "        pass\n",
    "\n",
    "# Plot histogram of the inverse Jacobian determinant series\n",
    "plt.hist(inv_det_series, bins=int(np.sqrt(len(inv_det_series))), density=True)\n",
    "plt.xlabel('Value')\n",
    "plt.ylabel('Density')\n",
    "plt.title('Histogram of Inverse Jacobian Determinant Series')\n",
    "plt.show()"
   ]
  },
  {
   "cell_type": "markdown",
   "id": "312fd81d",
   "metadata": {},
   "source": [
    "#### 3) Instead of the route you’ve taken in (2), choose some kernel & bandwidth to estimate the density of log expenditures directly. How do the approaches of (2) and (3) compare?"
   ]
  },
  {
   "cell_type": "code",
   "execution_count": 12,
   "id": "7c06afa7",
   "metadata": {},
   "outputs": [
    {
     "data": {
      "image/png": "[encoded data removed]",
      "text/plain": [
       "<Figure size 1500x500 with 1 Axes>"
      ]
     },
     "metadata": {},
     "output_type": "display_data"
    }
   ],
   "source": [
    "logS =np.log(S)\n",
    "\n",
    "bandwidths = [.01]\n",
    "fig, axes = plt.subplots(nrows=1,ncols=len(bandwidths), figsize=(15, 5), sharey=True)\n",
    "\n",
    "for i, bandwidth in enumerate(bandwidths):\n",
    "    kernel = kernel_estimator(logS, bandwidth)\n",
    "    ax = axes[i] if len(bandwidths) > 1 else axes\n",
    "    plot_pdf(logS, ax=ax, kernel_func=kernel, bandwidth=bandwidth)\n",
    "    ax.set_ylabel('Density')\n",
    "    ax.set_xlabel('Food Expenditures in India (INR)')\n",
    "\n",
    "\n",
    "plt.tight_layout()\n",
    "plt.show()"
   ]
  },
  {
   "cell_type": "markdown",
   "id": "c32a8029",
   "metadata": {},
   "source": [
    "## 3. Convolutions"
   ]
  },
  {
   "cell_type": "markdown",
   "id": "57536961",
   "metadata": {},
   "source": [
    "We’ve discussed ways to program a convolution of random variables in a Jupyter notebook. \n",
    "\n",
    "#### 1) As in the notebook, consider a discrete random variable s and a continuous random variable x. Prove that the convolution of\n",
    "s and x (or, informally, x + s) has a continuous distribution, as suggested by the figure at the end of the notebook, or establish that the figure is wrong or misleading."
   ]
  },
  {
   "cell_type": "markdown",
   "id": "91dd5a9e",
   "metadata": {},
   "source": [
    "To prove that the convolution of a discrete random variable S and a continuous random variable X (or X+S) has a continuous distribution, we need to show that the convolution integral results in a continuous probability distribution function (PDF).\n",
    "\n",
    "The convolution of S and X is given by:\n",
    "$(X + S)(t) = \\sum_{s} p_{S}(s) \\cdot f_{X}(t - s)$\n",
    "\n",
    "To prove that the convolution X+S has a continuous distribution, we need to show that (X+S)(t) is continuous for all t.\n",
    "\n",
    "Discrete Random Variable S:\n",
    "Since S is a discrete random variable, its $p_{S}(s)$ is a function that assigns probabilities to discrete points.\n",
    "\n",
    "Continuous Random Variable X:\n",
    "X is a continuous random variable with $f_{X}(x)$, which represents probabilities over a continuous range of values.   \n",
    "\n",
    "\n",
    "Continuity of the Convolution:\n",
    "The convolution (X+S)(t) is a sum of products $p_{S}(s)$ and $f_{X}(x)$. Since $p_{S}(s)$ is a discrete function and $f_{X}(t-s)$ is a continuous function, their product results in a function that may have discontinuities at the points where $p_{S}(s)$ is a non-zero. \n",
    "\n",
    "Therefore, the convolution $(X + S)$ may have points of discontinuity where $p_{S}(s)$ is non-zero. However, if $S$ is a degenerate discrete random variable (meaning it takes only one value with probability 1), then the convolution $X+S$  will have a continuous distribution, as it effectively reduces to just $X$    "
   ]
  },
  {
   "cell_type": "markdown",
   "id": "c2fb5f56",
   "metadata": {},
   "source": [
    "#### 2) The notebook develops a simple class ConvolvedContinuousAndDiscrete to allow for the creation and manipulations of (you guessed it) convolutions of a continuous rv with a discrete rv. Can you develop a similar class for convolutions of independent discrete random variables?"
   ]
  },
  {
   "cell_type": "code",
   "execution_count": 37,
   "id": "10ca21d6",
   "metadata": {},
   "outputs": [],
   "source": [
    "import plotly.graph_objects as go\n",
    "import numpy as np\n",
    "from scipy.stats import distributions as iid\n",
    "\n",
    "# Code to convolve two random variables with pmfs\n",
    "class ConvolvedTwoDiscrete(iid.rv_discrete):\n",
    "\n",
    "    \"\"\"Convolve (add) two discrete rvs s1 and s2,\n",
    "       returning the resulting pmf.\"\"\"\n",
    "\n",
    "    def __init__(self, s1, s2):\n",
    "        self.discrete_rv1 = s1\n",
    "        self.discrete_rv2 = s2\n",
    "        super(ConvolvedTwoDiscrete, self).__init__(a=min(s1.a, s2.a), b=max(s1.b, s2.b))\n",
    "\n",
    "    def _pmf(self, k):\n",
    "        pmf = 0\n",
    "        s1 = self.discrete_rv1\n",
    "        s2 = self.discrete_rv2\n",
    "\n",
    "        for i in range(len(s1.xk)):\n",
    "            for j in range(len(s2.xk)):\n",
    "                if s1.a <= k - s2.xk[j] <= s1.b:\n",
    "                    pmf += s1.pmf(k - s2.xk[j]) * s2.pk[j]\n",
    "        return pmf\n",
    "\n"
   ]
  },
  {
   "cell_type": "code",
   "execution_count": 38,
   "id": "7ebbd0f4",
   "metadata": {},
   "outputs": [
    {
     "data": {
      "application/vnd.plotly.v1+json": {
       "config": {
        "plotlyServerURL": "https://plot.ly"
       },
       "data": [
        {
         "type": "scatter",
         "x": [
          -7,
          -6.818181818181818,
          -6.636363636363637,
          -6.454545454545455,
          -6.2727272727272725,
          -6.090909090909091,
          -5.909090909090909,
          -5.7272727272727275,
          -5.545454545454545,
          -5.363636363636363,
          -5.181818181818182,
          -5,
          -4.818181818181818,
          -4.636363636363637,
          -4.454545454545455,
          -4.2727272727272725,
          -4.090909090909091,
          -3.909090909090909,
          -3.727272727272727,
          -3.5454545454545454,
          -3.3636363636363633,
          -3.1818181818181817,
          -3,
          -2.8181818181818183,
          -2.6363636363636367,
          -2.454545454545454,
          -2.2727272727272725,
          -2.090909090909091,
          -1.9090909090909092,
          -1.7272727272727275,
          -1.545454545454545,
          -1.3636363636363633,
          -1.1818181818181817,
          -1,
          -0.8181818181818183,
          -0.6363636363636358,
          -0.45454545454545414,
          -0.2727272727272725,
          -0.09090909090909083,
          0.09090909090909083,
          0.2727272727272734,
          0.45454545454545503,
          0.6363636363636367,
          0.8181818181818183,
          1,
          1.1818181818181817,
          1.3636363636363633,
          1.545454545454545,
          1.7272727272727266,
          1.90909090909091,
          2.0909090909090917,
          2.2727272727272734,
          2.454545454545455,
          2.6363636363636367,
          2.8181818181818183,
          3,
          3.1818181818181817,
          3.3636363636363633,
          3.545454545454545,
          3.7272727272727284,
          3.90909090909091,
          4.090909090909092,
          4.272727272727273,
          4.454545454545455,
          4.636363636363637,
          4.818181818181818,
          5,
          5.181818181818182,
          5.363636363636363,
          5.545454545454545,
          5.727272727272728,
          5.90909090909091,
          6.090909090909092,
          6.272727272727273,
          6.454545454545455,
          6.636363636363637,
          6.818181818181818,
          7,
          7.181818181818182,
          7.363636363636363,
          7.545454545454547,
          7.727272727272728,
          7.90909090909091,
          8.090909090909092,
          8.272727272727273,
          8.454545454545455,
          8.636363636363637,
          8.818181818181818,
          9,
          9.181818181818183,
          9.363636363636363,
          9.545454545454547,
          9.727272727272727,
          9.90909090909091,
          10.09090909090909,
          10.272727272727273,
          10.454545454545453,
          10.636363636363637,
          10.81818181818182,
          11
         ],
         "y": [
          0,
          0,
          0,
          0,
          0,
          0,
          0,
          0,
          0,
          0,
          0,
          0,
          0,
          0,
          0,
          0,
          0,
          0,
          0,
          0,
          0,
          0,
          0.12000000000000002,
          0,
          0,
          0,
          0,
          0,
          0,
          0,
          0,
          0,
          0,
          0.09,
          0,
          0,
          0,
          0,
          0,
          0,
          0,
          0,
          0,
          0,
          0.24000000000000005,
          0,
          0,
          0,
          0,
          0,
          0,
          0,
          0,
          0,
          0,
          0.18,
          0,
          0,
          0,
          0,
          0,
          0,
          0,
          0,
          0,
          0,
          0,
          0,
          0,
          0,
          0,
          0,
          0,
          0,
          0,
          0,
          0,
          0,
          0,
          0,
          0,
          0,
          0,
          0,
          0,
          0,
          0,
          0,
          0,
          0,
          0,
          0,
          0,
          0,
          0,
          0,
          0,
          0,
          0,
          0
         ]
        }
       ],
       "layout": {
        "template": {
         "data": {
          "bar": [
           {
            "error_x": {
             "color": "#2a3f5f"
            },
            "error_y": {
             "color": "#2a3f5f"
            },
            "marker": {
             "line": {
              "color": "#E5ECF6",
              "width": 0.5
             },
             "pattern": {
              "fillmode": "overlay",
              "size": 10,
              "solidity": 0.2
             }
            },
            "type": "bar"
           }
          ],
          "barpolar": [
           {
            "marker": {
             "line": {
              "color": "#E5ECF6",
              "width": 0.5
             },
             "pattern": {
              "fillmode": "overlay",
              "size": 10,
              "solidity": 0.2
             }
            },
            "type": "barpolar"
           }
          ],
          "carpet": [
           {
            "aaxis": {
             "endlinecolor": "#2a3f5f",
             "gridcolor": "white",
             "linecolor": "white",
             "minorgridcolor": "white",
             "startlinecolor": "#2a3f5f"
            },
            "baxis": {
             "endlinecolor": "#2a3f5f",
             "gridcolor": "white",
             "linecolor": "white",
             "minorgridcolor": "white",
             "startlinecolor": "#2a3f5f"
            },
            "type": "carpet"
           }
          ],
          "choropleth": [
           {
            "colorbar": {
             "outlinewidth": 0,
             "ticks": ""
            },
            "type": "choropleth"
           }
          ],
          "contour": [
           {
            "colorbar": {
             "outlinewidth": 0,
             "ticks": ""
            },
            "colorscale": [
             [
              0,
              "#0d0887"
             ],
             [
              0.1111111111111111,
              "#46039f"
             ],
             [
              0.2222222222222222,
              "#7201a8"
             ],
             [
              0.3333333333333333,
              "#9c179e"
             ],
             [
              0.4444444444444444,
              "#bd3786"
             ],
             [
              0.5555555555555556,
              "#d8576b"
             ],
             [
              0.6666666666666666,
              "#ed7953"
             ],
             [
              0.7777777777777778,
              "#fb9f3a"
             ],
             [
              0.8888888888888888,
              "#fdca26"
             ],
             [
              1,
              "#f0f921"
             ]
            ],
            "type": "contour"
           }
          ],
          "contourcarpet": [
           {
            "colorbar": {
             "outlinewidth": 0,
             "ticks": ""
            },
            "type": "contourcarpet"
           }
          ],
          "heatmap": [
           {
            "colorbar": {
             "outlinewidth": 0,
             "ticks": ""
            },
            "colorscale": [
             [
              0,
              "#0d0887"
             ],
             [
              0.1111111111111111,
              "#46039f"
             ],
             [
              0.2222222222222222,
              "#7201a8"
             ],
             [
              0.3333333333333333,
              "#9c179e"
             ],
             [
              0.4444444444444444,
              "#bd3786"
             ],
             [
              0.5555555555555556,
              "#d8576b"
             ],
             [
              0.6666666666666666,
              "#ed7953"
             ],
             [
              0.7777777777777778,
              "#fb9f3a"
             ],
             [
              0.8888888888888888,
              "#fdca26"
             ],
             [
              1,
              "#f0f921"
             ]
            ],
            "type": "heatmap"
           }
          ],
          "heatmapgl": [
           {
            "colorbar": {
             "outlinewidth": 0,
             "ticks": ""
            },
            "colorscale": [
             [
              0,
              "#0d0887"
             ],
             [
              0.1111111111111111,
              "#46039f"
             ],
             [
              0.2222222222222222,
              "#7201a8"
             ],
             [
              0.3333333333333333,
              "#9c179e"
             ],
             [
              0.4444444444444444,
              "#bd3786"
             ],
             [
              0.5555555555555556,
              "#d8576b"
             ],
             [
              0.6666666666666666,
              "#ed7953"
             ],
             [
              0.7777777777777778,
              "#fb9f3a"
             ],
             [
              0.8888888888888888,
              "#fdca26"
             ],
             [
              1,
              "#f0f921"
             ]
            ],
            "type": "heatmapgl"
           }
          ],
          "histogram": [
           {
            "marker": {
             "pattern": {
              "fillmode": "overlay",
              "size": 10,
              "solidity": 0.2
             }
            },
            "type": "histogram"
           }
          ],
          "histogram2d": [
           {
            "colorbar": {
             "outlinewidth": 0,
             "ticks": ""
            },
            "colorscale": [
             [
              0,
              "#0d0887"
             ],
             [
              0.1111111111111111,
              "#46039f"
             ],
             [
              0.2222222222222222,
              "#7201a8"
             ],
             [
              0.3333333333333333,
              "#9c179e"
             ],
             [
              0.4444444444444444,
              "#bd3786"
             ],
             [
              0.5555555555555556,
              "#d8576b"
             ],
             [
              0.6666666666666666,
              "#ed7953"
             ],
             [
              0.7777777777777778,
              "#fb9f3a"
             ],
             [
              0.8888888888888888,
              "#fdca26"
             ],
             [
              1,
              "#f0f921"
             ]
            ],
            "type": "histogram2d"
           }
          ],
          "histogram2dcontour": [
           {
            "colorbar": {
             "outlinewidth": 0,
             "ticks": ""
            },
            "colorscale": [
             [
              0,
              "#0d0887"
             ],
             [
              0.1111111111111111,
              "#46039f"
             ],
             [
              0.2222222222222222,
              "#7201a8"
             ],
             [
              0.3333333333333333,
              "#9c179e"
             ],
             [
              0.4444444444444444,
              "#bd3786"
             ],
             [
              0.5555555555555556,
              "#d8576b"
             ],
             [
              0.6666666666666666,
              "#ed7953"
             ],
             [
              0.7777777777777778,
              "#fb9f3a"
             ],
             [
              0.8888888888888888,
              "#fdca26"
             ],
             [
              1,
              "#f0f921"
             ]
            ],
            "type": "histogram2dcontour"
           }
          ],
          "mesh3d": [
           {
            "colorbar": {
             "outlinewidth": 0,
             "ticks": ""
            },
            "type": "mesh3d"
           }
          ],
          "parcoords": [
           {
            "line": {
             "colorbar": {
              "outlinewidth": 0,
              "ticks": ""
             }
            },
            "type": "parcoords"
           }
          ],
          "pie": [
           {
            "automargin": true,
            "type": "pie"
           }
          ],
          "scatter": [
           {
            "fillpattern": {
             "fillmode": "overlay",
             "size": 10,
             "solidity": 0.2
            },
            "type": "scatter"
           }
          ],
          "scatter3d": [
           {
            "line": {
             "colorbar": {
              "outlinewidth": 0,
              "ticks": ""
             }
            },
            "marker": {
             "colorbar": {
              "outlinewidth": 0,
              "ticks": ""
             }
            },
            "type": "scatter3d"
           }
          ],
          "scattercarpet": [
           {
            "marker": {
             "colorbar": {
              "outlinewidth": 0,
              "ticks": ""
             }
            },
            "type": "scattercarpet"
           }
          ],
          "scattergeo": [
           {
            "marker": {
             "colorbar": {
              "outlinewidth": 0,
              "ticks": ""
             }
            },
            "type": "scattergeo"
           }
          ],
          "scattergl": [
           {
            "marker": {
             "colorbar": {
              "outlinewidth": 0,
              "ticks": ""
             }
            },
            "type": "scattergl"
           }
          ],
          "scattermapbox": [
           {
            "marker": {
             "colorbar": {
              "outlinewidth": 0,
              "ticks": ""
             }
            },
            "type": "scattermapbox"
           }
          ],
          "scatterpolar": [
           {
            "marker": {
             "colorbar": {
              "outlinewidth": 0,
              "ticks": ""
             }
            },
            "type": "scatterpolar"
           }
          ],
          "scatterpolargl": [
           {
            "marker": {
             "colorbar": {
              "outlinewidth": 0,
              "ticks": ""
             }
            },
            "type": "scatterpolargl"
           }
          ],
          "scatterternary": [
           {
            "marker": {
             "colorbar": {
              "outlinewidth": 0,
              "ticks": ""
             }
            },
            "type": "scatterternary"
           }
          ],
          "surface": [
           {
            "colorbar": {
             "outlinewidth": 0,
             "ticks": ""
            },
            "colorscale": [
             [
              0,
              "#0d0887"
             ],
             [
              0.1111111111111111,
              "#46039f"
             ],
             [
              0.2222222222222222,
              "#7201a8"
             ],
             [
              0.3333333333333333,
              "#9c179e"
             ],
             [
              0.4444444444444444,
              "#bd3786"
             ],
             [
              0.5555555555555556,
              "#d8576b"
             ],
             [
              0.6666666666666666,
              "#ed7953"
             ],
             [
              0.7777777777777778,
              "#fb9f3a"
             ],
             [
              0.8888888888888888,
              "#fdca26"
             ],
             [
              1,
              "#f0f921"
             ]
            ],
            "type": "surface"
           }
          ],
          "table": [
           {
            "cells": {
             "fill": {
              "color": "#EBF0F8"
             },
             "line": {
              "color": "white"
             }
            },
            "header": {
             "fill": {
              "color": "#C8D4E3"
             },
             "line": {
              "color": "white"
             }
            },
            "type": "table"
           }
          ]
         },
         "layout": {
          "annotationdefaults": {
           "arrowcolor": "#2a3f5f",
           "arrowhead": 0,
           "arrowwidth": 1
          },
          "autotypenumbers": "strict",
          "coloraxis": {
           "colorbar": {
            "outlinewidth": 0,
            "ticks": ""
           }
          },
          "colorscale": {
           "diverging": [
            [
             0,
             "#8e0152"
            ],
            [
             0.1,
             "#c51b7d"
            ],
            [
             0.2,
             "#de77ae"
            ],
            [
             0.3,
             "#f1b6da"
            ],
            [
             0.4,
             "#fde0ef"
            ],
            [
             0.5,
             "#f7f7f7"
            ],
            [
             0.6,
             "#e6f5d0"
            ],
            [
             0.7,
             "#b8e186"
            ],
            [
             0.8,
             "#7fbc41"
            ],
            [
             0.9,
             "#4d9221"
            ],
            [
             1,
             "#276419"
            ]
           ],
           "sequential": [
            [
             0,
             "#0d0887"
            ],
            [
             0.1111111111111111,
             "#46039f"
            ],
            [
             0.2222222222222222,
             "#7201a8"
            ],
            [
             0.3333333333333333,
             "#9c179e"
            ],
            [
             0.4444444444444444,
             "#bd3786"
            ],
            [
             0.5555555555555556,
             "#d8576b"
            ],
            [
             0.6666666666666666,
             "#ed7953"
            ],
            [
             0.7777777777777778,
             "#fb9f3a"
            ],
            [
             0.8888888888888888,
             "#fdca26"
            ],
            [
             1,
             "#f0f921"
            ]
           ],
           "sequentialminus": [
            [
             0,
             "#0d0887"
            ],
            [
             0.1111111111111111,
             "#46039f"
            ],
            [
             0.2222222222222222,
             "#7201a8"
            ],
            [
             0.3333333333333333,
             "#9c179e"
            ],
            [
             0.4444444444444444,
             "#bd3786"
            ],
            [
             0.5555555555555556,
             "#d8576b"
            ],
            [
             0.6666666666666666,
             "#ed7953"
            ],
            [
             0.7777777777777778,
             "#fb9f3a"
            ],
            [
             0.8888888888888888,
             "#fdca26"
            ],
            [
             1,
             "#f0f921"
            ]
           ]
          },
          "colorway": [
           "#636efa",
           "#EF553B",
           "#00cc96",
           "#ab63fa",
           "#FFA15A",
           "#19d3f3",
           "#FF6692",
           "#B6E880",
           "#FF97FF",
           "#FECB52"
          ],
          "font": {
           "color": "#2a3f5f"
          },
          "geo": {
           "bgcolor": "white",
           "lakecolor": "white",
           "landcolor": "#E5ECF6",
           "showlakes": true,
           "showland": true,
           "subunitcolor": "white"
          },
          "hoverlabel": {
           "align": "left"
          },
          "hovermode": "closest",
          "mapbox": {
           "style": "light"
          },
          "paper_bgcolor": "white",
          "plot_bgcolor": "#E5ECF6",
          "polar": {
           "angularaxis": {
            "gridcolor": "white",
            "linecolor": "white",
            "ticks": ""
           },
           "bgcolor": "#E5ECF6",
           "radialaxis": {
            "gridcolor": "white",
            "linecolor": "white",
            "ticks": ""
           }
          },
          "scene": {
           "xaxis": {
            "backgroundcolor": "#E5ECF6",
            "gridcolor": "white",
            "gridwidth": 2,
            "linecolor": "white",
            "showbackground": true,
            "ticks": "",
            "zerolinecolor": "white"
           },
           "yaxis": {
            "backgroundcolor": "#E5ECF6",
            "gridcolor": "white",
            "gridwidth": 2,
            "linecolor": "white",
            "showbackground": true,
            "ticks": "",
            "zerolinecolor": "white"
           },
           "zaxis": {
            "backgroundcolor": "#E5ECF6",
            "gridcolor": "white",
            "gridwidth": 2,
            "linecolor": "white",
            "showbackground": true,
            "ticks": "",
            "zerolinecolor": "white"
           }
          },
          "shapedefaults": {
           "line": {
            "color": "#2a3f5f"
           }
          },
          "ternary": {
           "aaxis": {
            "gridcolor": "white",
            "linecolor": "white",
            "ticks": ""
           },
           "baxis": {
            "gridcolor": "white",
            "linecolor": "white",
            "ticks": ""
           },
           "bgcolor": "#E5ECF6",
           "caxis": {
            "gridcolor": "white",
            "linecolor": "white",
            "ticks": ""
           }
          },
          "title": {
           "x": 0.05
          },
          "xaxis": {
           "automargin": true,
           "gridcolor": "white",
           "linecolor": "white",
           "ticks": "",
           "title": {
            "standoff": 15
           },
           "zerolinecolor": "white",
           "zerolinewidth": 2
          },
          "yaxis": {
           "automargin": true,
           "gridcolor": "white",
           "linecolor": "white",
           "ticks": "",
           "title": {
            "standoff": 15
           },
           "zerolinecolor": "white",
           "zerolinewidth": 2
          }
         }
        },
        "title": {
         "text": "Convolved Probability Mass Function"
        },
        "xaxis": {
         "title": {
          "text": "X"
         }
        },
        "yaxis": {
         "title": {
          "text": "Probability"
         }
        }
       }
      },
      "text/html": [
       "<div>                            <div id=\"ec1f1b07-0cda-4e63-b948-22ba6b56d4ca\" class=\"plotly-graph-div\" style=\"height:525px; width:100%;\"></div>            <script type=\"text/javascript\">                require([\"plotly\"], function(Plotly) {                    window.PLOTLYENV=window.PLOTLYENV || {};                                    if (document.getElementById(\"ec1f1b07-0cda-4e63-b948-22ba6b56d4ca\")) {                    Plotly.newPlot(                        \"ec1f1b07-0cda-4e63-b948-22ba6b56d4ca\",                        [{\"x\":[-7.0,-6.818181818181818,-6.636363636363637,-6.454545454545455,-6.2727272727272725,-6.090909090909091,-5.909090909090909,-5.7272727272727275,-5.545454545454545,-5.363636363636363,-5.181818181818182,-5.0,-4.818181818181818,-4.636363636363637,-4.454545454545455,-4.2727272727272725,-4.090909090909091,-3.909090909090909,-3.727272727272727,-3.5454545454545454,-3.3636363636363633,-3.1818181818181817,-3.0,-2.8181818181818183,-2.6363636363636367,-2.454545454545454,-2.2727272727272725,-2.090909090909091,-1.9090909090909092,-1.7272727272727275,-1.545454545454545,-1.3636363636363633,-1.1818181818181817,-1.0,-0.8181818181818183,-0.6363636363636358,-0.45454545454545414,-0.2727272727272725,-0.09090909090909083,0.09090909090909083,0.2727272727272734,0.45454545454545503,0.6363636363636367,0.8181818181818183,1.0,1.1818181818181817,1.3636363636363633,1.545454545454545,1.7272727272727266,1.90909090909091,2.0909090909090917,2.2727272727272734,2.454545454545455,2.6363636363636367,2.8181818181818183,3.0,3.1818181818181817,3.3636363636363633,3.545454545454545,3.7272727272727284,3.90909090909091,4.090909090909092,4.272727272727273,4.454545454545455,4.636363636363637,4.818181818181818,5.0,5.181818181818182,5.363636363636363,5.545454545454545,5.727272727272728,5.90909090909091,6.090909090909092,6.272727272727273,6.454545454545455,6.636363636363637,6.818181818181818,7.0,7.181818181818182,7.363636363636363,7.545454545454547,7.727272727272728,7.90909090909091,8.090909090909092,8.272727272727273,8.454545454545455,8.636363636363637,8.818181818181818,9.0,9.181818181818183,9.363636363636363,9.545454545454547,9.727272727272727,9.90909090909091,10.09090909090909,10.272727272727273,10.454545454545453,10.636363636363637,10.81818181818182,11.0],\"y\":[0.0,0.0,0.0,0.0,0.0,0.0,0.0,0.0,0.0,0.0,0.0,0.0,0.0,0.0,0.0,0.0,0.0,0.0,0.0,0.0,0.0,0.0,0.12000000000000002,0.0,0.0,0.0,0.0,0.0,0.0,0.0,0.0,0.0,0.0,0.09,0.0,0.0,0.0,0.0,0.0,0.0,0.0,0.0,0.0,0.0,0.24000000000000005,0.0,0.0,0.0,0.0,0.0,0.0,0.0,0.0,0.0,0.0,0.18,0.0,0.0,0.0,0.0,0.0,0.0,0.0,0.0,0.0,0.0,0.0,0.0,0.0,0.0,0.0,0.0,0.0,0.0,0.0,0.0,0.0,0.0,0.0,0.0,0.0,0.0,0.0,0.0,0.0,0.0,0.0,0.0,0.0,0.0,0.0,0.0,0.0,0.0,0.0,0.0,0.0,0.0,0.0,0.0],\"type\":\"scatter\"}],                        {\"template\":{\"data\":{\"histogram2dcontour\":[{\"type\":\"histogram2dcontour\",\"colorbar\":{\"outlinewidth\":0,\"ticks\":\"\"},\"colorscale\":[[0.0,\"#0d0887\"],[0.1111111111111111,\"#46039f\"],[0.2222222222222222,\"#7201a8\"],[0.3333333333333333,\"#9c179e\"],[0.4444444444444444,\"#bd3786\"],[0.5555555555555556,\"#d8576b\"],[0.6666666666666666,\"#ed7953\"],[0.7777777777777778,\"#fb9f3a\"],[0.8888888888888888,\"#fdca26\"],[1.0,\"#f0f921\"]]}],\"choropleth\":[{\"type\":\"choropleth\",\"colorbar\":{\"outlinewidth\":0,\"ticks\":\"\"}}],\"histogram2d\":[{\"type\":\"histogram2d\",\"colorbar\":{\"outlinewidth\":0,\"ticks\":\"\"},\"colorscale\":[[0.0,\"#0d0887\"],[0.1111111111111111,\"#46039f\"],[0.2222222222222222,\"#7201a8\"],[0.3333333333333333,\"#9c179e\"],[0.4444444444444444,\"#bd3786\"],[0.5555555555555556,\"#d8576b\"],[0.6666666666666666,\"#ed7953\"],[0.7777777777777778,\"#fb9f3a\"],[0.8888888888888888,\"#fdca26\"],[1.0,\"#f0f921\"]]}],\"heatmap\":[{\"type\":\"heatmap\",\"colorbar\":{\"outlinewidth\":0,\"ticks\":\"\"},\"colorscale\":[[0.0,\"#0d0887\"],[0.1111111111111111,\"#46039f\"],[0.2222222222222222,\"#7201a8\"],[0.3333333333333333,\"#9c179e\"],[0.4444444444444444,\"#bd3786\"],[0.5555555555555556,\"#d8576b\"],[0.6666666666666666,\"#ed7953\"],[0.7777777777777778,\"#fb9f3a\"],[0.8888888888888888,\"#fdca26\"],[1.0,\"#f0f921\"]]}],\"heatmapgl\":[{\"type\":\"heatmapgl\",\"colorbar\":{\"outlinewidth\":0,\"ticks\":\"\"},\"colorscale\":[[0.0,\"#0d0887\"],[0.1111111111111111,\"#46039f\"],[0.2222222222222222,\"#7201a8\"],[0.3333333333333333,\"#9c179e\"],[0.4444444444444444,\"#bd3786\"],[0.5555555555555556,\"#d8576b\"],[0.6666666666666666,\"#ed7953\"],[0.7777777777777778,\"#fb9f3a\"],[0.8888888888888888,\"#fdca26\"],[1.0,\"#f0f921\"]]}],\"contourcarpet\":[{\"type\":\"contourcarpet\",\"colorbar\":{\"outlinewidth\":0,\"ticks\":\"\"}}],\"contour\":[{\"type\":\"contour\",\"colorbar\":{\"outlinewidth\":0,\"ticks\":\"\"},\"colorscale\":[[0.0,\"#0d0887\"],[0.1111111111111111,\"#46039f\"],[0.2222222222222222,\"#7201a8\"],[0.3333333333333333,\"#9c179e\"],[0.4444444444444444,\"#bd3786\"],[0.5555555555555556,\"#d8576b\"],[0.6666666666666666,\"#ed7953\"],[0.7777777777777778,\"#fb9f3a\"],[0.8888888888888888,\"#fdca26\"],[1.0,\"#f0f921\"]]}],\"surface\":[{\"type\":\"surface\",\"colorbar\":{\"outlinewidth\":0,\"ticks\":\"\"},\"colorscale\":[[0.0,\"#0d0887\"],[0.1111111111111111,\"#46039f\"],[0.2222222222222222,\"#7201a8\"],[0.3333333333333333,\"#9c179e\"],[0.4444444444444444,\"#bd3786\"],[0.5555555555555556,\"#d8576b\"],[0.6666666666666666,\"#ed7953\"],[0.7777777777777778,\"#fb9f3a\"],[0.8888888888888888,\"#fdca26\"],[1.0,\"#f0f921\"]]}],\"mesh3d\":[{\"type\":\"mesh3d\",\"colorbar\":{\"outlinewidth\":0,\"ticks\":\"\"}}],\"scatter\":[{\"fillpattern\":{\"fillmode\":\"overlay\",\"size\":10,\"solidity\":0.2},\"type\":\"scatter\"}],\"parcoords\":[{\"type\":\"parcoords\",\"line\":{\"colorbar\":{\"outlinewidth\":0,\"ticks\":\"\"}}}],\"scatterpolargl\":[{\"type\":\"scatterpolargl\",\"marker\":{\"colorbar\":{\"outlinewidth\":0,\"ticks\":\"\"}}}],\"bar\":[{\"error_x\":{\"color\":\"#2a3f5f\"},\"error_y\":{\"color\":\"#2a3f5f\"},\"marker\":{\"line\":{\"color\":\"#E5ECF6\",\"width\":0.5},\"pattern\":{\"fillmode\":\"overlay\",\"size\":10,\"solidity\":0.2}},\"type\":\"bar\"}],\"scattergeo\":[{\"type\":\"scattergeo\",\"marker\":{\"colorbar\":{\"outlinewidth\":0,\"ticks\":\"\"}}}],\"scatterpolar\":[{\"type\":\"scatterpolar\",\"marker\":{\"colorbar\":{\"outlinewidth\":0,\"ticks\":\"\"}}}],\"histogram\":[{\"marker\":{\"pattern\":{\"fillmode\":\"overlay\",\"size\":10,\"solidity\":0.2}},\"type\":\"histogram\"}],\"scattergl\":[{\"type\":\"scattergl\",\"marker\":{\"colorbar\":{\"outlinewidth\":0,\"ticks\":\"\"}}}],\"scatter3d\":[{\"type\":\"scatter3d\",\"line\":{\"colorbar\":{\"outlinewidth\":0,\"ticks\":\"\"}},\"marker\":{\"colorbar\":{\"outlinewidth\":0,\"ticks\":\"\"}}}],\"scattermapbox\":[{\"type\":\"scattermapbox\",\"marker\":{\"colorbar\":{\"outlinewidth\":0,\"ticks\":\"\"}}}],\"scatterternary\":[{\"type\":\"scatterternary\",\"marker\":{\"colorbar\":{\"outlinewidth\":0,\"ticks\":\"\"}}}],\"scattercarpet\":[{\"type\":\"scattercarpet\",\"marker\":{\"colorbar\":{\"outlinewidth\":0,\"ticks\":\"\"}}}],\"carpet\":[{\"aaxis\":{\"endlinecolor\":\"#2a3f5f\",\"gridcolor\":\"white\",\"linecolor\":\"white\",\"minorgridcolor\":\"white\",\"startlinecolor\":\"#2a3f5f\"},\"baxis\":{\"endlinecolor\":\"#2a3f5f\",\"gridcolor\":\"white\",\"linecolor\":\"white\",\"minorgridcolor\":\"white\",\"startlinecolor\":\"#2a3f5f\"},\"type\":\"carpet\"}],\"table\":[{\"cells\":{\"fill\":{\"color\":\"#EBF0F8\"},\"line\":{\"color\":\"white\"}},\"header\":{\"fill\":{\"color\":\"#C8D4E3\"},\"line\":{\"color\":\"white\"}},\"type\":\"table\"}],\"barpolar\":[{\"marker\":{\"line\":{\"color\":\"#E5ECF6\",\"width\":0.5},\"pattern\":{\"fillmode\":\"overlay\",\"size\":10,\"solidity\":0.2}},\"type\":\"barpolar\"}],\"pie\":[{\"automargin\":true,\"type\":\"pie\"}]},\"layout\":{\"autotypenumbers\":\"strict\",\"colorway\":[\"#636efa\",\"#EF553B\",\"#00cc96\",\"#ab63fa\",\"#FFA15A\",\"#19d3f3\",\"#FF6692\",\"#B6E880\",\"#FF97FF\",\"#FECB52\"],\"font\":{\"color\":\"#2a3f5f\"},\"hovermode\":\"closest\",\"hoverlabel\":{\"align\":\"left\"},\"paper_bgcolor\":\"white\",\"plot_bgcolor\":\"#E5ECF6\",\"polar\":{\"bgcolor\":\"#E5ECF6\",\"angularaxis\":{\"gridcolor\":\"white\",\"linecolor\":\"white\",\"ticks\":\"\"},\"radialaxis\":{\"gridcolor\":\"white\",\"linecolor\":\"white\",\"ticks\":\"\"}},\"ternary\":{\"bgcolor\":\"#E5ECF6\",\"aaxis\":{\"gridcolor\":\"white\",\"linecolor\":\"white\",\"ticks\":\"\"},\"baxis\":{\"gridcolor\":\"white\",\"linecolor\":\"white\",\"ticks\":\"\"},\"caxis\":{\"gridcolor\":\"white\",\"linecolor\":\"white\",\"ticks\":\"\"}},\"coloraxis\":{\"colorbar\":{\"outlinewidth\":0,\"ticks\":\"\"}},\"colorscale\":{\"sequential\":[[0.0,\"#0d0887\"],[0.1111111111111111,\"#46039f\"],[0.2222222222222222,\"#7201a8\"],[0.3333333333333333,\"#9c179e\"],[0.4444444444444444,\"#bd3786\"],[0.5555555555555556,\"#d8576b\"],[0.6666666666666666,\"#ed7953\"],[0.7777777777777778,\"#fb9f3a\"],[0.8888888888888888,\"#fdca26\"],[1.0,\"#f0f921\"]],\"sequentialminus\":[[0.0,\"#0d0887\"],[0.1111111111111111,\"#46039f\"],[0.2222222222222222,\"#7201a8\"],[0.3333333333333333,\"#9c179e\"],[0.4444444444444444,\"#bd3786\"],[0.5555555555555556,\"#d8576b\"],[0.6666666666666666,\"#ed7953\"],[0.7777777777777778,\"#fb9f3a\"],[0.8888888888888888,\"#fdca26\"],[1.0,\"#f0f921\"]],\"diverging\":[[0,\"#8e0152\"],[0.1,\"#c51b7d\"],[0.2,\"#de77ae\"],[0.3,\"#f1b6da\"],[0.4,\"#fde0ef\"],[0.5,\"#f7f7f7\"],[0.6,\"#e6f5d0\"],[0.7,\"#b8e186\"],[0.8,\"#7fbc41\"],[0.9,\"#4d9221\"],[1,\"#276419\"]]},\"xaxis\":{\"gridcolor\":\"white\",\"linecolor\":\"white\",\"ticks\":\"\",\"title\":{\"standoff\":15},\"zerolinecolor\":\"white\",\"automargin\":true,\"zerolinewidth\":2},\"yaxis\":{\"gridcolor\":\"white\",\"linecolor\":\"white\",\"ticks\":\"\",\"title\":{\"standoff\":15},\"zerolinecolor\":\"white\",\"automargin\":true,\"zerolinewidth\":2},\"scene\":{\"xaxis\":{\"backgroundcolor\":\"#E5ECF6\",\"gridcolor\":\"white\",\"linecolor\":\"white\",\"showbackground\":true,\"ticks\":\"\",\"zerolinecolor\":\"white\",\"gridwidth\":2},\"yaxis\":{\"backgroundcolor\":\"#E5ECF6\",\"gridcolor\":\"white\",\"linecolor\":\"white\",\"showbackground\":true,\"ticks\":\"\",\"zerolinecolor\":\"white\",\"gridwidth\":2},\"zaxis\":{\"backgroundcolor\":\"#E5ECF6\",\"gridcolor\":\"white\",\"linecolor\":\"white\",\"showbackground\":true,\"ticks\":\"\",\"zerolinecolor\":\"white\",\"gridwidth\":2}},\"shapedefaults\":{\"line\":{\"color\":\"#2a3f5f\"}},\"annotationdefaults\":{\"arrowcolor\":\"#2a3f5f\",\"arrowhead\":0,\"arrowwidth\":1},\"geo\":{\"bgcolor\":\"white\",\"landcolor\":\"#E5ECF6\",\"subunitcolor\":\"white\",\"showland\":true,\"showlakes\":true,\"lakecolor\":\"white\"},\"title\":{\"x\":0.05},\"mapbox\":{\"style\":\"light\"}}},\"title\":{\"text\":\"Convolved Probability Mass Function\"},\"xaxis\":{\"title\":{\"text\":\"X\"}},\"yaxis\":{\"title\":{\"text\":\"Probability\"}}},                        {\"responsive\": true}                    ).then(function(){\n",
       "                            \n",
       "var gd = document.getElementById('ec1f1b07-0cda-4e63-b948-22ba6b56d4ca');\n",
       "var x = new MutationObserver(function (mutations, observer) {{\n",
       "        var display = window.getComputedStyle(gd).display;\n",
       "        if (!display || display === 'none') {{\n",
       "            console.log([gd, 'removed!']);\n",
       "            Plotly.purge(gd);\n",
       "            observer.disconnect();\n",
       "        }}\n",
       "}});\n",
       "\n",
       "// Listen for the removal of the full notebook cells\n",
       "var notebookContainer = gd.closest('#notebook-container');\n",
       "if (notebookContainer) {{\n",
       "    x.observe(notebookContainer, {childList: true});\n",
       "}}\n",
       "\n",
       "// Listen for the clearing of the current output cell\n",
       "var outputEl = gd.closest('.output');\n",
       "if (outputEl) {{\n",
       "    x.observe(outputEl, {childList: true});\n",
       "}}\n",
       "\n",
       "                        })                };                });            </script>        </div>"
      ]
     },
     "metadata": {},
     "output_type": "display_data"
    }
   ],
   "source": [
    "\n",
    "# Example usage:\n",
    "# Define two discrete random variables\n",
    "s1 = iid.rv_discrete(values=([-4, 0, 4], [0.1, 0.2, 0.7]))\n",
    "s2 = iid.rv_discrete(values=([1, 2, 3], [0.4, 0.3, 0.3]))\n",
    "\n",
    "# Create new convolved rv with two discrete random variables\n",
    "z = ConvolvedTwoDiscrete(s1, s2)\n",
    "\n",
    "# Generate x-values\n",
    "X = np.linspace(min(s1.a, s2.a) + min(s1.xk + s2.xk), max(s1.b, s2.b) + max(s1.xk + s2.xk), 100)\n",
    "\n",
    "# Calculate probabilities for each x-value\n",
    "Y = [z.pmf(x_val) for x_val in X]\n",
    "\n",
    "# Plot using Plotly\n",
    "fig = go.Figure(data=go.Scatter(x=X, y=Y))\n",
    "fig.update_layout(title='Convolved Probability Mass Function', xaxis_title='X', yaxis_title='Probability')\n",
    "fig.show()"
   ]
  },
  {
   "cell_type": "markdown",
   "id": "e26af5d1",
   "metadata": {},
   "source": [
    "####  3) Same as (2), but convolutions of independent continuous random variables?"
   ]
  },
  {
   "cell_type": "code",
   "execution_count": 48,
   "id": "7212054f",
   "metadata": {
    "scrolled": true
   },
   "outputs": [
    {
     "data": {
      "application/vnd.plotly.v1+json": {
       "config": {
        "plotlyServerURL": "https://plot.ly"
       },
       "data": [
        {
         "type": "scatter",
         "x": [
          -4,
          -3.8585858585858586,
          -3.717171717171717,
          -3.5757575757575757,
          -3.4343434343434343,
          -3.292929292929293,
          -3.1515151515151514,
          -3.0101010101010104,
          -2.8686868686868685,
          -2.7272727272727275,
          -2.5858585858585856,
          -2.4444444444444446,
          -2.303030303030303,
          -2.1616161616161618,
          -2.0202020202020203,
          -1.878787878787879,
          -1.7373737373737375,
          -1.595959595959596,
          -1.4545454545454546,
          -1.3131313131313131,
          -1.1717171717171717,
          -1.0303030303030303,
          -0.8888888888888888,
          -0.7474747474747474,
          -0.6060606060606064,
          -0.464646464646465,
          -0.32323232323232354,
          -0.1818181818181821,
          -0.040404040404040664,
          0.10101010101010122,
          0.2424242424242422,
          0.3838383838383841,
          0.5252525252525251,
          0.6666666666666661,
          0.808080808080808,
          0.949494949494949,
          1.0909090909090908,
          1.2323232323232318,
          1.3737373737373737,
          1.5151515151515147,
          1.6565656565656566,
          1.7979797979797976,
          1.9393939393939394,
          2.0808080808080804,
          2.2222222222222223,
          2.3636363636363633,
          2.505050505050505,
          2.646464646464646,
          2.787878787878787,
          2.929292929292929,
          3.07070707070707,
          3.212121212121212,
          3.353535353535353,
          3.494949494949495,
          3.636363636363636,
          3.7777777777777777,
          3.9191919191919187,
          4.0606060606060606,
          4.202020202020202,
          4.3434343434343425,
          4.484848484848484,
          4.626262626262626,
          4.767676767676768,
          4.909090909090908,
          5.05050505050505,
          5.191919191919192,
          5.333333333333332,
          5.474747474747474,
          5.616161616161616,
          5.757575757575758,
          5.898989898989898,
          6.04040404040404,
          6.181818181818182,
          6.3232323232323235,
          6.464646464646464,
          6.6060606060606055,
          6.747474747474747,
          6.888888888888889,
          7.030303030303029,
          7.171717171717171,
          7.313131313131313,
          7.454545454545453,
          7.595959595959595,
          7.737373737373737,
          7.878787878787879,
          8.020202020202019,
          8.16161616161616,
          8.303030303030303,
          8.444444444444445,
          8.585858585858585,
          8.727272727272727,
          8.868686868686869,
          9.01010101010101,
          9.15151515151515,
          9.292929292929292,
          9.434343434343434,
          9.575757575757574,
          9.717171717171716,
          9.858585858585858,
          10
         ],
         "y": [
          0.00026766045152977074,
          0.0004665554099586073,
          0.0007971448591926443,
          0.0013350153715339474,
          0.0021915444286241216,
          0.0035263814571270882,
          0.005561901527946869,
          0.008598690126886584,
          0.013030356504535783,
          0.019355094410920003,
          0.028180538435827268,
          0.04021779684917486,
          0.05626032827455688,
          0.07714383846443111,
          0.10368483082493854,
          0.13659795544941777,
          0.17639577193789738,
          0.22327862038875523,
          0.2770263662478961,
          0.33690702550350227,
          0.4016187923925869,
          0.46928101082198004,
          0.537485723082648,
          0.6034146933045237,
          0.6640179599500166,
          0.7162403233518352,
          0.7572734062314982,
          0.7848047813822129,
          0.7972335586476209,
          0.793824501598896,
          0.7747800399734662,
          0.741220368064774,
          0.695074350302397,
          0.6388960110447047,
          0.5756308847213429,
          0.5083619006422974,
          0.44006507073998147,
          0.3734012773169553,
          0.3105629878858228,
          0.2531853601800836,
          0.20232170692424872,
          0.15847522142070244,
          0.12167328981379184,
          0.09156808480048277,
          0.06754730207054127,
          0.04884126240053911,
          0.03461630832566733,
          0.024048589924711684,
          0.016376213053574527,
          0.010930809848414842,
          0.00715164907013287,
          0.004586432944439816,
          0.0028830946330741926,
          0.0017764694510971823,
          0.0010729304876837896,
          0.000635185280205077,
          0.0003685906046363033,
          0.00020965397122527806,
          0.00011688988247966146,
          6.388012355108392e-05,
          3.4219177731737475e-05,
          1.796753038992998e-05,
          9.247454503083994e-06,
          4.665208036398416e-06,
          2.306932160292911e-06,
          1.118184913347063e-06,
          5.312603817043854e-07,
          2.474094182559978e-07,
          1.1293798185177525e-07,
          5.053343428132173e-08,
          2.2163206966412372e-08,
          9.527992059215283e-09,
          4.014996468303303e-09,
          1.6583795941391353e-09,
          6.714253272331925e-10,
          2.6645660512906815e-10,
          1.0365022704529665e-10,
          3.952109980456881e-11,
          1.4770757983303924e-11,
          5.4111745025410124e-12,
          1.943100633175003e-12,
          6.839337630749885e-13,
          2.359651089210099e-13,
          7.979883188894977e-14,
          2.645210720980667e-14,
          8.594864036812293e-15,
          2.7373652152412232e-15,
          8.545578620105408e-16,
          2.614960906274422e-16,
          7.843392048762911e-17,
          2.3059911871951212e-17,
          6.645480063260072e-18,
          1.8771979542254498e-18,
          5.197670944877303e-19,
          1.4106604409324315e-19,
          3.752763450287294e-20,
          9.78576741424395e-21,
          2.5012297469941844e-21,
          6.266532226187681e-22,
          1.538919725341284e-22
         ]
        }
       ],
       "layout": {
        "template": {
         "data": {
          "bar": [
           {
            "error_x": {
             "color": "#2a3f5f"
            },
            "error_y": {
             "color": "#2a3f5f"
            },
            "marker": {
             "line": {
              "color": "#E5ECF6",
              "width": 0.5
             },
             "pattern": {
              "fillmode": "overlay",
              "size": 10,
              "solidity": 0.2
             }
            },
            "type": "bar"
           }
          ],
          "barpolar": [
           {
            "marker": {
             "line": {
              "color": "#E5ECF6",
              "width": 0.5
             },
             "pattern": {
              "fillmode": "overlay",
              "size": 10,
              "solidity": 0.2
             }
            },
            "type": "barpolar"
           }
          ],
          "carpet": [
           {
            "aaxis": {
             "endlinecolor": "#2a3f5f",
             "gridcolor": "white",
             "linecolor": "white",
             "minorgridcolor": "white",
             "startlinecolor": "#2a3f5f"
            },
            "baxis": {
             "endlinecolor": "#2a3f5f",
             "gridcolor": "white",
             "linecolor": "white",
             "minorgridcolor": "white",
             "startlinecolor": "#2a3f5f"
            },
            "type": "carpet"
           }
          ],
          "choropleth": [
           {
            "colorbar": {
             "outlinewidth": 0,
             "ticks": ""
            },
            "type": "choropleth"
           }
          ],
          "contour": [
           {
            "colorbar": {
             "outlinewidth": 0,
             "ticks": ""
            },
            "colorscale": [
             [
              0,
              "#0d0887"
             ],
             [
              0.1111111111111111,
              "#46039f"
             ],
             [
              0.2222222222222222,
              "#7201a8"
             ],
             [
              0.3333333333333333,
              "#9c179e"
             ],
             [
              0.4444444444444444,
              "#bd3786"
             ],
             [
              0.5555555555555556,
              "#d8576b"
             ],
             [
              0.6666666666666666,
              "#ed7953"
             ],
             [
              0.7777777777777778,
              "#fb9f3a"
             ],
             [
              0.8888888888888888,
              "#fdca26"
             ],
             [
              1,
              "#f0f921"
             ]
            ],
            "type": "contour"
           }
          ],
          "contourcarpet": [
           {
            "colorbar": {
             "outlinewidth": 0,
             "ticks": ""
            },
            "type": "contourcarpet"
           }
          ],
          "heatmap": [
           {
            "colorbar": {
             "outlinewidth": 0,
             "ticks": ""
            },
            "colorscale": [
             [
              0,
              "#0d0887"
             ],
             [
              0.1111111111111111,
              "#46039f"
             ],
             [
              0.2222222222222222,
              "#7201a8"
             ],
             [
              0.3333333333333333,
              "#9c179e"
             ],
             [
              0.4444444444444444,
              "#bd3786"
             ],
             [
              0.5555555555555556,
              "#d8576b"
             ],
             [
              0.6666666666666666,
              "#ed7953"
             ],
             [
              0.7777777777777778,
              "#fb9f3a"
             ],
             [
              0.8888888888888888,
              "#fdca26"
             ],
             [
              1,
              "#f0f921"
             ]
            ],
            "type": "heatmap"
           }
          ],
          "heatmapgl": [
           {
            "colorbar": {
             "outlinewidth": 0,
             "ticks": ""
            },
            "colorscale": [
             [
              0,
              "#0d0887"
             ],
             [
              0.1111111111111111,
              "#46039f"
             ],
             [
              0.2222222222222222,
              "#7201a8"
             ],
             [
              0.3333333333333333,
              "#9c179e"
             ],
             [
              0.4444444444444444,
              "#bd3786"
             ],
             [
              0.5555555555555556,
              "#d8576b"
             ],
             [
              0.6666666666666666,
              "#ed7953"
             ],
             [
              0.7777777777777778,
              "#fb9f3a"
             ],
             [
              0.8888888888888888,
              "#fdca26"
             ],
             [
              1,
              "#f0f921"
             ]
            ],
            "type": "heatmapgl"
           }
          ],
          "histogram": [
           {
            "marker": {
             "pattern": {
              "fillmode": "overlay",
              "size": 10,
              "solidity": 0.2
             }
            },
            "type": "histogram"
           }
          ],
          "histogram2d": [
           {
            "colorbar": {
             "outlinewidth": 0,
             "ticks": ""
            },
            "colorscale": [
             [
              0,
              "#0d0887"
             ],
             [
              0.1111111111111111,
              "#46039f"
             ],
             [
              0.2222222222222222,
              "#7201a8"
             ],
             [
              0.3333333333333333,
              "#9c179e"
             ],
             [
              0.4444444444444444,
              "#bd3786"
             ],
             [
              0.5555555555555556,
              "#d8576b"
             ],
             [
              0.6666666666666666,
              "#ed7953"
             ],
             [
              0.7777777777777778,
              "#fb9f3a"
             ],
             [
              0.8888888888888888,
              "#fdca26"
             ],
             [
              1,
              "#f0f921"
             ]
            ],
            "type": "histogram2d"
           }
          ],
          "histogram2dcontour": [
           {
            "colorbar": {
             "outlinewidth": 0,
             "ticks": ""
            },
            "colorscale": [
             [
              0,
              "#0d0887"
             ],
             [
              0.1111111111111111,
              "#46039f"
             ],
             [
              0.2222222222222222,
              "#7201a8"
             ],
             [
              0.3333333333333333,
              "#9c179e"
             ],
             [
              0.4444444444444444,
              "#bd3786"
             ],
             [
              0.5555555555555556,
              "#d8576b"
             ],
             [
              0.6666666666666666,
              "#ed7953"
             ],
             [
              0.7777777777777778,
              "#fb9f3a"
             ],
             [
              0.8888888888888888,
              "#fdca26"
             ],
             [
              1,
              "#f0f921"
             ]
            ],
            "type": "histogram2dcontour"
           }
          ],
          "mesh3d": [
           {
            "colorbar": {
             "outlinewidth": 0,
             "ticks": ""
            },
            "type": "mesh3d"
           }
          ],
          "parcoords": [
           {
            "line": {
             "colorbar": {
              "outlinewidth": 0,
              "ticks": ""
             }
            },
            "type": "parcoords"
           }
          ],
          "pie": [
           {
            "automargin": true,
            "type": "pie"
           }
          ],
          "scatter": [
           {
            "fillpattern": {
             "fillmode": "overlay",
             "size": 10,
             "solidity": 0.2
            },
            "type": "scatter"
           }
          ],
          "scatter3d": [
           {
            "line": {
             "colorbar": {
              "outlinewidth": 0,
              "ticks": ""
             }
            },
            "marker": {
             "colorbar": {
              "outlinewidth": 0,
              "ticks": ""
             }
            },
            "type": "scatter3d"
           }
          ],
          "scattercarpet": [
           {
            "marker": {
             "colorbar": {
              "outlinewidth": 0,
              "ticks": ""
             }
            },
            "type": "scattercarpet"
           }
          ],
          "scattergeo": [
           {
            "marker": {
             "colorbar": {
              "outlinewidth": 0,
              "ticks": ""
             }
            },
            "type": "scattergeo"
           }
          ],
          "scattergl": [
           {
            "marker": {
             "colorbar": {
              "outlinewidth": 0,
              "ticks": ""
             }
            },
            "type": "scattergl"
           }
          ],
          "scattermapbox": [
           {
            "marker": {
             "colorbar": {
              "outlinewidth": 0,
              "ticks": ""
             }
            },
            "type": "scattermapbox"
           }
          ],
          "scatterpolar": [
           {
            "marker": {
             "colorbar": {
              "outlinewidth": 0,
              "ticks": ""
             }
            },
            "type": "scatterpolar"
           }
          ],
          "scatterpolargl": [
           {
            "marker": {
             "colorbar": {
              "outlinewidth": 0,
              "ticks": ""
             }
            },
            "type": "scatterpolargl"
           }
          ],
          "scatterternary": [
           {
            "marker": {
             "colorbar": {
              "outlinewidth": 0,
              "ticks": ""
             }
            },
            "type": "scatterternary"
           }
          ],
          "surface": [
           {
            "colorbar": {
             "outlinewidth": 0,
             "ticks": ""
            },
            "colorscale": [
             [
              0,
              "#0d0887"
             ],
             [
              0.1111111111111111,
              "#46039f"
             ],
             [
              0.2222222222222222,
              "#7201a8"
             ],
             [
              0.3333333333333333,
              "#9c179e"
             ],
             [
              0.4444444444444444,
              "#bd3786"
             ],
             [
              0.5555555555555556,
              "#d8576b"
             ],
             [
              0.6666666666666666,
              "#ed7953"
             ],
             [
              0.7777777777777778,
              "#fb9f3a"
             ],
             [
              0.8888888888888888,
              "#fdca26"
             ],
             [
              1,
              "#f0f921"
             ]
            ],
            "type": "surface"
           }
          ],
          "table": [
           {
            "cells": {
             "fill": {
              "color": "#EBF0F8"
             },
             "line": {
              "color": "white"
             }
            },
            "header": {
             "fill": {
              "color": "#C8D4E3"
             },
             "line": {
              "color": "white"
             }
            },
            "type": "table"
           }
          ]
         },
         "layout": {
          "annotationdefaults": {
           "arrowcolor": "#2a3f5f",
           "arrowhead": 0,
           "arrowwidth": 1
          },
          "autotypenumbers": "strict",
          "coloraxis": {
           "colorbar": {
            "outlinewidth": 0,
            "ticks": ""
           }
          },
          "colorscale": {
           "diverging": [
            [
             0,
             "#8e0152"
            ],
            [
             0.1,
             "#c51b7d"
            ],
            [
             0.2,
             "#de77ae"
            ],
            [
             0.3,
             "#f1b6da"
            ],
            [
             0.4,
             "#fde0ef"
            ],
            [
             0.5,
             "#f7f7f7"
            ],
            [
             0.6,
             "#e6f5d0"
            ],
            [
             0.7,
             "#b8e186"
            ],
            [
             0.8,
             "#7fbc41"
            ],
            [
             0.9,
             "#4d9221"
            ],
            [
             1,
             "#276419"
            ]
           ],
           "sequential": [
            [
             0,
             "#0d0887"
            ],
            [
             0.1111111111111111,
             "#46039f"
            ],
            [
             0.2222222222222222,
             "#7201a8"
            ],
            [
             0.3333333333333333,
             "#9c179e"
            ],
            [
             0.4444444444444444,
             "#bd3786"
            ],
            [
             0.5555555555555556,
             "#d8576b"
            ],
            [
             0.6666666666666666,
             "#ed7953"
            ],
            [
             0.7777777777777778,
             "#fb9f3a"
            ],
            [
             0.8888888888888888,
             "#fdca26"
            ],
            [
             1,
             "#f0f921"
            ]
           ],
           "sequentialminus": [
            [
             0,
             "#0d0887"
            ],
            [
             0.1111111111111111,
             "#46039f"
            ],
            [
             0.2222222222222222,
             "#7201a8"
            ],
            [
             0.3333333333333333,
             "#9c179e"
            ],
            [
             0.4444444444444444,
             "#bd3786"
            ],
            [
             0.5555555555555556,
             "#d8576b"
            ],
            [
             0.6666666666666666,
             "#ed7953"
            ],
            [
             0.7777777777777778,
             "#fb9f3a"
            ],
            [
             0.8888888888888888,
             "#fdca26"
            ],
            [
             1,
             "#f0f921"
            ]
           ]
          },
          "colorway": [
           "#636efa",
           "#EF553B",
           "#00cc96",
           "#ab63fa",
           "#FFA15A",
           "#19d3f3",
           "#FF6692",
           "#B6E880",
           "#FF97FF",
           "#FECB52"
          ],
          "font": {
           "color": "#2a3f5f"
          },
          "geo": {
           "bgcolor": "white",
           "lakecolor": "white",
           "landcolor": "#E5ECF6",
           "showlakes": true,
           "showland": true,
           "subunitcolor": "white"
          },
          "hoverlabel": {
           "align": "left"
          },
          "hovermode": "closest",
          "mapbox": {
           "style": "light"
          },
          "paper_bgcolor": "white",
          "plot_bgcolor": "#E5ECF6",
          "polar": {
           "angularaxis": {
            "gridcolor": "white",
            "linecolor": "white",
            "ticks": ""
           },
           "bgcolor": "#E5ECF6",
           "radialaxis": {
            "gridcolor": "white",
            "linecolor": "white",
            "ticks": ""
           }
          },
          "scene": {
           "xaxis": {
            "backgroundcolor": "#E5ECF6",
            "gridcolor": "white",
            "gridwidth": 2,
            "linecolor": "white",
            "showbackground": true,
            "ticks": "",
            "zerolinecolor": "white"
           },
           "yaxis": {
            "backgroundcolor": "#E5ECF6",
            "gridcolor": "white",
            "gridwidth": 2,
            "linecolor": "white",
            "showbackground": true,
            "ticks": "",
            "zerolinecolor": "white"
           },
           "zaxis": {
            "backgroundcolor": "#E5ECF6",
            "gridcolor": "white",
            "gridwidth": 2,
            "linecolor": "white",
            "showbackground": true,
            "ticks": "",
            "zerolinecolor": "white"
           }
          },
          "shapedefaults": {
           "line": {
            "color": "#2a3f5f"
           }
          },
          "ternary": {
           "aaxis": {
            "gridcolor": "white",
            "linecolor": "white",
            "ticks": ""
           },
           "baxis": {
            "gridcolor": "white",
            "linecolor": "white",
            "ticks": ""
           },
           "bgcolor": "#E5ECF6",
           "caxis": {
            "gridcolor": "white",
            "linecolor": "white",
            "ticks": ""
           }
          },
          "title": {
           "x": 0.05
          },
          "xaxis": {
           "automargin": true,
           "gridcolor": "white",
           "linecolor": "white",
           "ticks": "",
           "title": {
            "standoff": 15
           },
           "zerolinecolor": "white",
           "zerolinewidth": 2
          },
          "yaxis": {
           "automargin": true,
           "gridcolor": "white",
           "linecolor": "white",
           "ticks": "",
           "title": {
            "standoff": 15
           },
           "zerolinecolor": "white",
           "zerolinewidth": 2
          }
         }
        }
       }
      },
      "text/html": [
       "<div>                            <div id=\"9650a4c2-0634-4d85-8ef8-707fe7929c4a\" class=\"plotly-graph-div\" style=\"height:525px; width:100%;\"></div>            <script type=\"text/javascript\">                require([\"plotly\"], function(Plotly) {                    window.PLOTLYENV=window.PLOTLYENV || {};                                    if (document.getElementById(\"9650a4c2-0634-4d85-8ef8-707fe7929c4a\")) {                    Plotly.newPlot(                        \"9650a4c2-0634-4d85-8ef8-707fe7929c4a\",                        [{\"x\":[-4.0,-3.8585858585858586,-3.717171717171717,-3.5757575757575757,-3.4343434343434343,-3.292929292929293,-3.1515151515151514,-3.0101010101010104,-2.8686868686868685,-2.7272727272727275,-2.5858585858585856,-2.4444444444444446,-2.303030303030303,-2.1616161616161618,-2.0202020202020203,-1.878787878787879,-1.7373737373737375,-1.595959595959596,-1.4545454545454546,-1.3131313131313131,-1.1717171717171717,-1.0303030303030303,-0.8888888888888888,-0.7474747474747474,-0.6060606060606064,-0.464646464646465,-0.32323232323232354,-0.1818181818181821,-0.040404040404040664,0.10101010101010122,0.2424242424242422,0.3838383838383841,0.5252525252525251,0.6666666666666661,0.808080808080808,0.949494949494949,1.0909090909090908,1.2323232323232318,1.3737373737373737,1.5151515151515147,1.6565656565656566,1.7979797979797976,1.9393939393939394,2.0808080808080804,2.2222222222222223,2.3636363636363633,2.505050505050505,2.646464646464646,2.787878787878787,2.929292929292929,3.07070707070707,3.212121212121212,3.353535353535353,3.494949494949495,3.636363636363636,3.7777777777777777,3.9191919191919187,4.0606060606060606,4.202020202020202,4.3434343434343425,4.484848484848484,4.626262626262626,4.767676767676768,4.909090909090908,5.05050505050505,5.191919191919192,5.333333333333332,5.474747474747474,5.616161616161616,5.757575757575758,5.898989898989898,6.04040404040404,6.181818181818182,6.3232323232323235,6.464646464646464,6.6060606060606055,6.747474747474747,6.888888888888889,7.030303030303029,7.171717171717171,7.313131313131313,7.454545454545453,7.595959595959595,7.737373737373737,7.878787878787879,8.020202020202019,8.16161616161616,8.303030303030303,8.444444444444445,8.585858585858585,8.727272727272727,8.868686868686869,9.01010101010101,9.15151515151515,9.292929292929292,9.434343434343434,9.575757575757574,9.717171717171716,9.858585858585858,10.0],\"y\":[0.00026766045152977074,0.0004665554099586073,0.0007971448591926443,0.0013350153715339474,0.0021915444286241216,0.0035263814571270882,0.005561901527946869,0.008598690126886584,0.013030356504535783,0.019355094410920003,0.028180538435827268,0.04021779684917486,0.05626032827455688,0.07714383846443111,0.10368483082493854,0.13659795544941777,0.17639577193789738,0.22327862038875523,0.2770263662478961,0.33690702550350227,0.4016187923925869,0.46928101082198004,0.537485723082648,0.6034146933045237,0.6640179599500166,0.7162403233518352,0.7572734062314982,0.7848047813822129,0.7972335586476209,0.793824501598896,0.7747800399734662,0.741220368064774,0.695074350302397,0.6388960110447047,0.5756308847213429,0.5083619006422974,0.44006507073998147,0.3734012773169553,0.3105629878858228,0.2531853601800836,0.20232170692424872,0.15847522142070244,0.12167328981379184,0.09156808480048277,0.06754730207054127,0.04884126240053911,0.03461630832566733,0.024048589924711684,0.016376213053574527,0.010930809848414842,0.00715164907013287,0.004586432944439816,0.0028830946330741926,0.0017764694510971823,0.0010729304876837896,0.000635185280205077,0.0003685906046363033,0.00020965397122527806,0.00011688988247966146,6.388012355108392e-05,3.4219177731737475e-05,1.796753038992998e-05,9.247454503083994e-06,4.665208036398416e-06,2.306932160292911e-06,1.118184913347063e-06,5.312603817043854e-07,2.474094182559978e-07,1.1293798185177525e-07,5.053343428132173e-08,2.2163206966412372e-08,9.527992059215283e-09,4.014996468303303e-09,1.6583795941391353e-09,6.714253272331925e-10,2.6645660512906815e-10,1.0365022704529665e-10,3.952109980456881e-11,1.4770757983303924e-11,5.4111745025410124e-12,1.943100633175003e-12,6.839337630749885e-13,2.359651089210099e-13,7.979883188894977e-14,2.645210720980667e-14,8.594864036812293e-15,2.7373652152412232e-15,8.545578620105408e-16,2.614960906274422e-16,7.843392048762911e-17,2.3059911871951212e-17,6.645480063260072e-18,1.8771979542254498e-18,5.197670944877303e-19,1.4106604409324315e-19,3.752763450287294e-20,9.78576741424395e-21,2.5012297469941844e-21,6.266532226187681e-22,1.538919725341284e-22],\"type\":\"scatter\"}],                        {\"template\":{\"data\":{\"histogram2dcontour\":[{\"type\":\"histogram2dcontour\",\"colorbar\":{\"outlinewidth\":0,\"ticks\":\"\"},\"colorscale\":[[0.0,\"#0d0887\"],[0.1111111111111111,\"#46039f\"],[0.2222222222222222,\"#7201a8\"],[0.3333333333333333,\"#9c179e\"],[0.4444444444444444,\"#bd3786\"],[0.5555555555555556,\"#d8576b\"],[0.6666666666666666,\"#ed7953\"],[0.7777777777777778,\"#fb9f3a\"],[0.8888888888888888,\"#fdca26\"],[1.0,\"#f0f921\"]]}],\"choropleth\":[{\"type\":\"choropleth\",\"colorbar\":{\"outlinewidth\":0,\"ticks\":\"\"}}],\"histogram2d\":[{\"type\":\"histogram2d\",\"colorbar\":{\"outlinewidth\":0,\"ticks\":\"\"},\"colorscale\":[[0.0,\"#0d0887\"],[0.1111111111111111,\"#46039f\"],[0.2222222222222222,\"#7201a8\"],[0.3333333333333333,\"#9c179e\"],[0.4444444444444444,\"#bd3786\"],[0.5555555555555556,\"#d8576b\"],[0.6666666666666666,\"#ed7953\"],[0.7777777777777778,\"#fb9f3a\"],[0.8888888888888888,\"#fdca26\"],[1.0,\"#f0f921\"]]}],\"heatmap\":[{\"type\":\"heatmap\",\"colorbar\":{\"outlinewidth\":0,\"ticks\":\"\"},\"colorscale\":[[0.0,\"#0d0887\"],[0.1111111111111111,\"#46039f\"],[0.2222222222222222,\"#7201a8\"],[0.3333333333333333,\"#9c179e\"],[0.4444444444444444,\"#bd3786\"],[0.5555555555555556,\"#d8576b\"],[0.6666666666666666,\"#ed7953\"],[0.7777777777777778,\"#fb9f3a\"],[0.8888888888888888,\"#fdca26\"],[1.0,\"#f0f921\"]]}],\"heatmapgl\":[{\"type\":\"heatmapgl\",\"colorbar\":{\"outlinewidth\":0,\"ticks\":\"\"},\"colorscale\":[[0.0,\"#0d0887\"],[0.1111111111111111,\"#46039f\"],[0.2222222222222222,\"#7201a8\"],[0.3333333333333333,\"#9c179e\"],[0.4444444444444444,\"#bd3786\"],[0.5555555555555556,\"#d8576b\"],[0.6666666666666666,\"#ed7953\"],[0.7777777777777778,\"#fb9f3a\"],[0.8888888888888888,\"#fdca26\"],[1.0,\"#f0f921\"]]}],\"contourcarpet\":[{\"type\":\"contourcarpet\",\"colorbar\":{\"outlinewidth\":0,\"ticks\":\"\"}}],\"contour\":[{\"type\":\"contour\",\"colorbar\":{\"outlinewidth\":0,\"ticks\":\"\"},\"colorscale\":[[0.0,\"#0d0887\"],[0.1111111111111111,\"#46039f\"],[0.2222222222222222,\"#7201a8\"],[0.3333333333333333,\"#9c179e\"],[0.4444444444444444,\"#bd3786\"],[0.5555555555555556,\"#d8576b\"],[0.6666666666666666,\"#ed7953\"],[0.7777777777777778,\"#fb9f3a\"],[0.8888888888888888,\"#fdca26\"],[1.0,\"#f0f921\"]]}],\"surface\":[{\"type\":\"surface\",\"colorbar\":{\"outlinewidth\":0,\"ticks\":\"\"},\"colorscale\":[[0.0,\"#0d0887\"],[0.1111111111111111,\"#46039f\"],[0.2222222222222222,\"#7201a8\"],[0.3333333333333333,\"#9c179e\"],[0.4444444444444444,\"#bd3786\"],[0.5555555555555556,\"#d8576b\"],[0.6666666666666666,\"#ed7953\"],[0.7777777777777778,\"#fb9f3a\"],[0.8888888888888888,\"#fdca26\"],[1.0,\"#f0f921\"]]}],\"mesh3d\":[{\"type\":\"mesh3d\",\"colorbar\":{\"outlinewidth\":0,\"ticks\":\"\"}}],\"scatter\":[{\"fillpattern\":{\"fillmode\":\"overlay\",\"size\":10,\"solidity\":0.2},\"type\":\"scatter\"}],\"parcoords\":[{\"type\":\"parcoords\",\"line\":{\"colorbar\":{\"outlinewidth\":0,\"ticks\":\"\"}}}],\"scatterpolargl\":[{\"type\":\"scatterpolargl\",\"marker\":{\"colorbar\":{\"outlinewidth\":0,\"ticks\":\"\"}}}],\"bar\":[{\"error_x\":{\"color\":\"#2a3f5f\"},\"error_y\":{\"color\":\"#2a3f5f\"},\"marker\":{\"line\":{\"color\":\"#E5ECF6\",\"width\":0.5},\"pattern\":{\"fillmode\":\"overlay\",\"size\":10,\"solidity\":0.2}},\"type\":\"bar\"}],\"scattergeo\":[{\"type\":\"scattergeo\",\"marker\":{\"colorbar\":{\"outlinewidth\":0,\"ticks\":\"\"}}}],\"scatterpolar\":[{\"type\":\"scatterpolar\",\"marker\":{\"colorbar\":{\"outlinewidth\":0,\"ticks\":\"\"}}}],\"histogram\":[{\"marker\":{\"pattern\":{\"fillmode\":\"overlay\",\"size\":10,\"solidity\":0.2}},\"type\":\"histogram\"}],\"scattergl\":[{\"type\":\"scattergl\",\"marker\":{\"colorbar\":{\"outlinewidth\":0,\"ticks\":\"\"}}}],\"scatter3d\":[{\"type\":\"scatter3d\",\"line\":{\"colorbar\":{\"outlinewidth\":0,\"ticks\":\"\"}},\"marker\":{\"colorbar\":{\"outlinewidth\":0,\"ticks\":\"\"}}}],\"scattermapbox\":[{\"type\":\"scattermapbox\",\"marker\":{\"colorbar\":{\"outlinewidth\":0,\"ticks\":\"\"}}}],\"scatterternary\":[{\"type\":\"scatterternary\",\"marker\":{\"colorbar\":{\"outlinewidth\":0,\"ticks\":\"\"}}}],\"scattercarpet\":[{\"type\":\"scattercarpet\",\"marker\":{\"colorbar\":{\"outlinewidth\":0,\"ticks\":\"\"}}}],\"carpet\":[{\"aaxis\":{\"endlinecolor\":\"#2a3f5f\",\"gridcolor\":\"white\",\"linecolor\":\"white\",\"minorgridcolor\":\"white\",\"startlinecolor\":\"#2a3f5f\"},\"baxis\":{\"endlinecolor\":\"#2a3f5f\",\"gridcolor\":\"white\",\"linecolor\":\"white\",\"minorgridcolor\":\"white\",\"startlinecolor\":\"#2a3f5f\"},\"type\":\"carpet\"}],\"table\":[{\"cells\":{\"fill\":{\"color\":\"#EBF0F8\"},\"line\":{\"color\":\"white\"}},\"header\":{\"fill\":{\"color\":\"#C8D4E3\"},\"line\":{\"color\":\"white\"}},\"type\":\"table\"}],\"barpolar\":[{\"marker\":{\"line\":{\"color\":\"#E5ECF6\",\"width\":0.5},\"pattern\":{\"fillmode\":\"overlay\",\"size\":10,\"solidity\":0.2}},\"type\":\"barpolar\"}],\"pie\":[{\"automargin\":true,\"type\":\"pie\"}]},\"layout\":{\"autotypenumbers\":\"strict\",\"colorway\":[\"#636efa\",\"#EF553B\",\"#00cc96\",\"#ab63fa\",\"#FFA15A\",\"#19d3f3\",\"#FF6692\",\"#B6E880\",\"#FF97FF\",\"#FECB52\"],\"font\":{\"color\":\"#2a3f5f\"},\"hovermode\":\"closest\",\"hoverlabel\":{\"align\":\"left\"},\"paper_bgcolor\":\"white\",\"plot_bgcolor\":\"#E5ECF6\",\"polar\":{\"bgcolor\":\"#E5ECF6\",\"angularaxis\":{\"gridcolor\":\"white\",\"linecolor\":\"white\",\"ticks\":\"\"},\"radialaxis\":{\"gridcolor\":\"white\",\"linecolor\":\"white\",\"ticks\":\"\"}},\"ternary\":{\"bgcolor\":\"#E5ECF6\",\"aaxis\":{\"gridcolor\":\"white\",\"linecolor\":\"white\",\"ticks\":\"\"},\"baxis\":{\"gridcolor\":\"white\",\"linecolor\":\"white\",\"ticks\":\"\"},\"caxis\":{\"gridcolor\":\"white\",\"linecolor\":\"white\",\"ticks\":\"\"}},\"coloraxis\":{\"colorbar\":{\"outlinewidth\":0,\"ticks\":\"\"}},\"colorscale\":{\"sequential\":[[0.0,\"#0d0887\"],[0.1111111111111111,\"#46039f\"],[0.2222222222222222,\"#7201a8\"],[0.3333333333333333,\"#9c179e\"],[0.4444444444444444,\"#bd3786\"],[0.5555555555555556,\"#d8576b\"],[0.6666666666666666,\"#ed7953\"],[0.7777777777777778,\"#fb9f3a\"],[0.8888888888888888,\"#fdca26\"],[1.0,\"#f0f921\"]],\"sequentialminus\":[[0.0,\"#0d0887\"],[0.1111111111111111,\"#46039f\"],[0.2222222222222222,\"#7201a8\"],[0.3333333333333333,\"#9c179e\"],[0.4444444444444444,\"#bd3786\"],[0.5555555555555556,\"#d8576b\"],[0.6666666666666666,\"#ed7953\"],[0.7777777777777778,\"#fb9f3a\"],[0.8888888888888888,\"#fdca26\"],[1.0,\"#f0f921\"]],\"diverging\":[[0,\"#8e0152\"],[0.1,\"#c51b7d\"],[0.2,\"#de77ae\"],[0.3,\"#f1b6da\"],[0.4,\"#fde0ef\"],[0.5,\"#f7f7f7\"],[0.6,\"#e6f5d0\"],[0.7,\"#b8e186\"],[0.8,\"#7fbc41\"],[0.9,\"#4d9221\"],[1,\"#276419\"]]},\"xaxis\":{\"gridcolor\":\"white\",\"linecolor\":\"white\",\"ticks\":\"\",\"title\":{\"standoff\":15},\"zerolinecolor\":\"white\",\"automargin\":true,\"zerolinewidth\":2},\"yaxis\":{\"gridcolor\":\"white\",\"linecolor\":\"white\",\"ticks\":\"\",\"title\":{\"standoff\":15},\"zerolinecolor\":\"white\",\"automargin\":true,\"zerolinewidth\":2},\"scene\":{\"xaxis\":{\"backgroundcolor\":\"#E5ECF6\",\"gridcolor\":\"white\",\"linecolor\":\"white\",\"showbackground\":true,\"ticks\":\"\",\"zerolinecolor\":\"white\",\"gridwidth\":2},\"yaxis\":{\"backgroundcolor\":\"#E5ECF6\",\"gridcolor\":\"white\",\"linecolor\":\"white\",\"showbackground\":true,\"ticks\":\"\",\"zerolinecolor\":\"white\",\"gridwidth\":2},\"zaxis\":{\"backgroundcolor\":\"#E5ECF6\",\"gridcolor\":\"white\",\"linecolor\":\"white\",\"showbackground\":true,\"ticks\":\"\",\"zerolinecolor\":\"white\",\"gridwidth\":2}},\"shapedefaults\":{\"line\":{\"color\":\"#2a3f5f\"}},\"annotationdefaults\":{\"arrowcolor\":\"#2a3f5f\",\"arrowhead\":0,\"arrowwidth\":1},\"geo\":{\"bgcolor\":\"white\",\"landcolor\":\"#E5ECF6\",\"subunitcolor\":\"white\",\"showland\":true,\"showlakes\":true,\"lakecolor\":\"white\"},\"title\":{\"x\":0.05},\"mapbox\":{\"style\":\"light\"}}}},                        {\"responsive\": true}                    ).then(function(){\n",
       "                            \n",
       "var gd = document.getElementById('9650a4c2-0634-4d85-8ef8-707fe7929c4a');\n",
       "var x = new MutationObserver(function (mutations, observer) {{\n",
       "        var display = window.getComputedStyle(gd).display;\n",
       "        if (!display || display === 'none') {{\n",
       "            console.log([gd, 'removed!']);\n",
       "            Plotly.purge(gd);\n",
       "            observer.disconnect();\n",
       "        }}\n",
       "}});\n",
       "\n",
       "// Listen for the removal of the full notebook cells\n",
       "var notebookContainer = gd.closest('#notebook-container');\n",
       "if (notebookContainer) {{\n",
       "    x.observe(notebookContainer, {childList: true});\n",
       "}}\n",
       "\n",
       "// Listen for the clearing of the current output cell\n",
       "var outputEl = gd.closest('.output');\n",
       "if (outputEl) {{\n",
       "    x.observe(outputEl, {childList: true});\n",
       "}}\n",
       "\n",
       "                        })                };                });            </script>        </div>"
      ]
     },
     "metadata": {},
     "output_type": "display_data"
    }
   ],
   "source": [
    "from scipy.stats import distributions as iid\n",
    "\n",
    "# Code to convolve two random variables with PDFs\n",
    "# Exploits scipy.stats base rv_continuous class.\n",
    "\n",
    "class ConvolvedContinuous(iid.rv_continuous):\n",
    "\n",
    "    \"\"\"Convolve (add) two continuous random variables x and y,\n",
    "       returning the resulting PDF and CDF.\"\"\"\n",
    "\n",
    "    def __init__(self, x, y):\n",
    "        self.continuous_rv_x = x\n",
    "        self.continuous_rv_y = y\n",
    "        super(ConvolvedContinuous, self).__init__(name=\"ConvolvedContinuous\")\n",
    "        \n",
    "    def _cdf(self, z):\n",
    "        return self.continuous_rv_x.cdf(z) + self.continuous_rv_y.cdf(z)\n",
    "\n",
    "    def _pdf(self, z):\n",
    "        return self.continuous_rv_x.pdf(z) + self.continuous_rv_y.pdf(z)\n",
    "\n",
    "# Example usage:\n",
    "# Create two continuous random variables x and y\n",
    "x = iid.norm()\n",
    "y = iid.norm()\n",
    "\n",
    "# Create a new convolved random variable using the ConvolvedContinuous class\n",
    "z = ConvolvedContinuous(x, y)\n",
    "\n",
    "import plotly.graph_objects as go\n",
    "import numpy as np\n",
    "\n",
    "X = np.linspace(-4, 10, 100).tolist()\n",
    "\n",
    "fig = go.Figure(data=go.Scatter(x=X, y=[z.pdf(z_val) for z_val in X]))\n",
    "fig.show()"
   ]
  }
 ],
 "metadata": {
  "kernelspec": {
   "display_name": "Python 3 (ipykernel)",
   "language": "python",
   "name": "python3"
  },
  "language_info": {
   "codemirror_mode": {
    "name": "ipython",
    "version": 3
   },
   "file_extension": ".py",
   "mimetype": "text/x-python",
   "name": "python",
   "nbconvert_exporter": "python",
   "pygments_lexer": "ipython3",
   "version": "3.9.13"
  }
 },
 "nbformat": 4,
 "nbformat_minor": 5
}
