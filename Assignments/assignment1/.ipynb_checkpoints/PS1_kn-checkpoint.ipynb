{
 "cells": [
  {
   "cell_type": "markdown",
   "id": "76b881a9",
   "metadata": {},
   "source": [
    "## Exercise 3\n",
    "Let $A$ be an $m$x$n$ matrix. A matrix  $\\mathrm{A}^{-}$ is a generalized inverse of $A$ if $\\mathrm{AA}^{-}A=A$. Such a generalized inverse can be shown to always exist. If A is a matrix of zeros, what can we say about $\\mathrm{A}^{-}$.\n"
   ]
  },
  {
   "cell_type": "code",
   "execution_count": 33,
   "id": "0f60b84f",
   "metadata": {},
   "outputs": [
    {
     "name": "stdout",
     "output_type": "stream",
     "text": [
      "Matrix A:\n",
      "[[0.44015249 0.12203823]\n",
      " [0.49517691 0.03438852]\n",
      " [0.9093204  0.25877998]]\n",
      "\n",
      "Generalized Inverse A-:\n",
      "[[-0.0698316   2.67348128 -0.32233924]\n",
      " [ 1.72694595 -9.43910188  4.30420974]]\n",
      "\n",
      "AA-A:\n",
      "[[0.44015249 0.12203823]\n",
      " [0.49517691 0.03438852]\n",
      " [0.9093204  0.25877998]]\n"
     ]
    }
   ],
   "source": [
    "import numpy as np\n",
    "seed_value = 42\n",
    "\n",
    "# Define a random matrix A (m x n)\n",
    "m = 3  # number of rows\n",
    "n = 2  # number of columns\n",
    "A = np.random.rand(m, n)\n",
    "\n",
    "# Calculate the generalized inverse A-\n",
    "A_inv = np.linalg.pinv(A)\n",
    "\n",
    "# Calculate AA-A\n",
    "result = np.dot(np.dot(A, A_inv), A)\n",
    "\n",
    "# Check if AA-A = A (within a small tolerance due to floating-point precision)\n",
    "tolerance = 1e-10\n",
    "is_identity = np.allclose(result, A, atol=tolerance)\n",
    "\n",
    "print(\"Matrix A:\")\n",
    "print(A)\n",
    "\n",
    "print(\"\\nGeneralized Inverse A-:\")\n",
    "print(A_inv)\n",
    "\n",
    "print(\"\\nAA-A:\")\n",
    "print(result)"
   ]
  },
  {
   "cell_type": "markdown",
   "id": "c0edebdd",
   "metadata": {},
   "source": [
    "Now, if matrix $A$ is a matrix of zeros, then it is a zero matrix, denoted as 0. In this case, $\\mathrm{A}^{-}$, the generalized inverse of A, would be the Moore-Penrose pseudoinverse of the zero matrix. The Moore-Penrose pseudoinverse of a zero matrix is the zero matrix itself. This can be understood from the properties of the Moore-Penrose pseudoinverse:\n",
    "\n",
    "If A is a zero matrix, then $\\mathrm{A}^{+}=\\mathrm{A}^{-}=\\mathrm{A}^{´}=0$\n",
    "\n",
    "So, in summary, if A is a matrix of zeros, its generalized inverse A− is also a zero matrix."
   ]
  },
  {
   "cell_type": "code",
   "execution_count": 35,
   "id": "70feb0eb",
   "metadata": {},
   "outputs": [
    {
     "name": "stdout",
     "output_type": "stream",
     "text": [
      "Matrix A:\n",
      "[[0. 0.]\n",
      " [0. 0.]\n",
      " [0. 0.]]\n",
      "\n",
      "Generalized Inverse A-:\n",
      "[[0. 0. 0.]\n",
      " [0. 0. 0.]]\n",
      "\n",
      "AA-A:\n",
      "[[0. 0.]\n",
      " [0. 0.]\n",
      " [0. 0.]]\n"
     ]
    }
   ],
   "source": [
    "A = np.zeros((m, n))# Calculate the generalized inverse A-\n",
    "A_inv = np.linalg.pinv(A)\n",
    "\n",
    "# Calculate AA-A\n",
    "result = np.dot(np.dot(A, A_inv), A)\n",
    "\n",
    "# Check if AA-A = A (within a small tolerance due to floating-point precision)\n",
    "tolerance = 1e-10\n",
    "is_identity = np.allclose(result, A, atol=tolerance)\n",
    "\n",
    "print(\"Matrix A:\")\n",
    "print(A)\n",
    "\n",
    "print(\"\\nGeneralized Inverse A-:\")\n",
    "print(A_inv)\n",
    "\n",
    "print(\"\\nAA-A:\")\n",
    "print(result)"
   ]
  },
  {
   "cell_type": "code",
   "execution_count": null,
   "id": "d9e51634",
   "metadata": {},
   "outputs": [],
   "source": []
  }
 ],
 "metadata": {
  "kernelspec": {
   "display_name": "Python 3 (ipykernel)",
   "language": "python",
   "name": "python3"
  },
  "language_info": {
   "codemirror_mode": {
    "name": "ipython",
    "version": 3
   },
   "file_extension": ".py",
   "mimetype": "text/x-python",
   "name": "python",
   "nbconvert_exporter": "python",
   "pygments_lexer": "ipython3",
   "version": "3.9.13"
  }
 },
 "nbformat": 4,
 "nbformat_minor": 5
}
